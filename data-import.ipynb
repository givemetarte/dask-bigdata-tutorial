{
 "cells": [
  {
   "cell_type": "code",
   "execution_count": 1,
   "metadata": {},
   "outputs": [],
   "source": [
    "sparql_endpoint = \"http://localhost:9999/blazegraph/namespace/final-test/sparql\""
   ]
  },
  {
   "cell_type": "code",
   "execution_count": 2,
   "metadata": {},
   "outputs": [],
   "source": [
    "import os\n",
    "import pandas as pd\n",
    "from SPARQLWrapper import SPARQLWrapper, JSON\n",
    "from tqdm import tqdm"
   ]
  },
  {
   "cell_type": "code",
   "execution_count": 7,
   "metadata": {},
   "outputs": [],
   "source": [
    "def get_sparql_data(sparql_query):\n",
    "    print(\"SPARQL ENDPOINT로부터 데이터를 불러옵니다.\")\n",
    "    endpoint = SPARQLWrapper(sparql_endpoint)\n",
    "    endpoint.setQuery(sparql_query)\n",
    "    endpoint.setReturnFormat(JSON)\n",
    "    result = endpoint.query().convert()\n",
    "    return pd.json_normalize(result[\"results\"][\"bindings\"])\n",
    "\n",
    "def refined_keywords(text):\n",
    "    refined_list = []\n",
    "    for n in text.split(','):\n",
    "        if n != '':\n",
    "            refined_list.append(n.strip())\n",
    "    return refined_list"
   ]
  },
  {
   "cell_type": "code",
   "execution_count": 8,
   "metadata": {},
   "outputs": [],
   "source": [
    "def kistib_df():\n",
    "    df = get_sparql_data(\n",
    "        \"\"\"\n",
    "        PREFIX skos: <http://www.w3.org/2004/02/skos/core#>\n",
    "        PREFIX dct: <http://purl.org/dc/terms/>\n",
    "        PREFIX rdf: <http://www.w3.org/1999/02/22-rdf-syntax-ns#>\n",
    "        PREFIX dcat: <http://www.w3.org/ns/dcat#>\n",
    "\n",
    "        SELECT DISTINCT ?uri ?title ?desc ?theme ?keyword ?publisher ?contact ?url ?format ?issuedDate ?modifiedDate\n",
    "        WHERE { \n",
    "            ?uri a dcat:Dataset ;\n",
    "                dct:title ?title ;\n",
    "                dcat:keyword ?keyword .\n",
    "        \n",
    "            OPTIONAL { ?uri dct:description ?desc . }\n",
    "            OPTIONAL { ?uri dcat:theme/rdfs:label ?theme . }\n",
    "            OPTIONAL { ?uri dcat:accessURL ?url . }\n",
    "            OPTIONAL { ?uri dct:publisher ?publisher . }\n",
    "            OPTIONAL { ?uri dcat:contactPoint ?contact . }\n",
    "            OPTIONAL { ?uri dct:format/rdfs:label ?format . }\n",
    "            OPTIONAL { ?uri dct:issued ?issuedDate . }\n",
    "            OPTIONAL { ?uri dct:modified ?modifiedDate . }\n",
    "        }\n",
    "        \"\"\"\n",
    "    )\n",
    "\n",
    "    # value 컬럼만 넣기\n",
    "    columns = [n for n in df.columns if n.find(\".value\") != -1]\n",
    "    df = df[columns]\n",
    "\n",
    "    # 컬럼명에서 .value 삭제\n",
    "    df = df.rename(columns=lambda col: col.replace(\".value\", \"\"))\n",
    "    df = df.fillna(\"None\")\n",
    "    #print(df.head())\n",
    "    print(df.columns)\n",
    "\n",
    "    df['keyword'] = df['keyword'].apply(refined_keywords)\n",
    "\n",
    "    df.to_csv(\"final-data/csv/disaster-dataset.csv\", encoding=\"utf-8\", index=False)\n",
    "    \n",
    "    return df"
   ]
  },
  {
   "cell_type": "code",
   "execution_count": 9,
   "metadata": {},
   "outputs": [
    {
     "name": "stdout",
     "output_type": "stream",
     "text": [
      "SPARQL ENDPOINT로부터 데이터를 불러옵니다.\n",
      "Index(['uri', 'title', 'desc', 'theme', 'keyword', 'publisher', 'contact',\n",
      "       'url', 'issuedDate', 'modifiedDate'],\n",
      "      dtype='object')\n"
     ]
    },
    {
     "data": {
      "text/plain": [
       "826"
      ]
     },
     "execution_count": 9,
     "metadata": {},
     "output_type": "execute_result"
    }
   ],
   "source": [
    "dis_df = kistib_df()\n",
    "len(dis_df)"
   ]
  },
  {
   "cell_type": "code",
   "execution_count": null,
   "metadata": {},
   "outputs": [],
   "source": []
  }
 ],
 "metadata": {
  "kernelspec": {
   "display_name": "Python 3.9.13 64-bit",
   "language": "python",
   "name": "python3"
  },
  "language_info": {
   "codemirror_mode": {
    "name": "ipython",
    "version": 3
   },
   "file_extension": ".py",
   "mimetype": "text/x-python",
   "name": "python",
   "nbconvert_exporter": "python",
   "pygments_lexer": "ipython3",
   "version": "3.9.13"
  },
  "orig_nbformat": 4,
  "vscode": {
   "interpreter": {
    "hash": "b0fa6594d8f4cbf19f97940f81e996739fb7646882a419484c72d19e05852a7e"
   }
  }
 },
 "nbformat": 4,
 "nbformat_minor": 2
}
