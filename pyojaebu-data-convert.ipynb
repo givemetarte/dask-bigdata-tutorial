{
 "cells": [
  {
   "cell_type": "code",
   "execution_count": 1,
   "metadata": {},
   "outputs": [],
   "source": [
    "import numpy as np\n",
    "import pandas as pd \n",
    "import glob\n",
    "from tqdm import tqdm\n",
    "import hashlib\n",
    "import datetime\n",
    "\n",
    "from rdflib import Namespace, Literal, URIRef\n",
    "from rdflib.graph import Graph, ConjunctiveGraph\n",
    "from rdflib.namespace import CSVW, DC, DCAT, DCTERMS, DOAP, FOAF, ODRL2, ORG, OWL, \\\n",
    "                           PROF, PROV, RDF, RDFS, SDO, SH, SKOS, SOSA, SSN, TIME, \\\n",
    "                           VOID, XMLNS, XSD"
   ]
  },
  {
   "cell_type": "code",
   "execution_count": 2,
   "metadata": {},
   "outputs": [
    {
     "name": "stdout",
     "output_type": "stream",
     "text": [
      "마지막으로 실행한 날짜는 2022-09-06 입니다.\n"
     ]
    }
   ],
   "source": [
    "# today\n",
    "today = datetime.date.today()\n",
    "print(f\"마지막으로 실행한 날짜는 {today} 입니다.\")"
   ]
  },
  {
   "cell_type": "markdown",
   "metadata": {},
   "source": [
    "### (1) 건축물대장 표제부 데이터 불러오기"
   ]
  },
  {
   "cell_type": "code",
   "execution_count": 5,
   "metadata": {},
   "outputs": [
    {
     "name": "stdout",
     "output_type": "stream",
     "text": [
      "총 7905108 개의 행수가 있습니다.\n",
      "Wall time: 7min 22s\n"
     ]
    }
   ],
   "source": [
    "%%time\n",
    "\n",
    "columns = [\"관리건축물대장PK\",\"대장구분코드\",\"대장구분코드명\",\"대장종류코드\",\"대장종류코드명\",\"대지위치\", \\\n",
    "            \"도로명대지위치\",\"건물명\",\"시군구코드\",\"법정동코드\",\"대지구분코드\",\"번\",\"지\",\"특수지명\", \\\n",
    "            \"블록\",\"로트\",\"외필지수\",\"새주소도로코드\",\"새주소법정동코드\",\"새주소지상지하코드\",\"새주소본번\", \\\n",
    "            \"새주소부번\",\"동명\",\"주부속구분코드\",\"주부속구분코드명\",\"대지면적(㎡)\",\"건축면적(㎡)\", \\\n",
    "            \"건폐율(%)\",\"연면적\",\"용적률산정연면적\",\"용적률\",\"구조코드\",\"구조코드명\",\"기타구조\", \\\n",
    "            \"주용도코드\",\"주용도코드명\",\"기타용도\",\"지붕코드\",\"지붕코드명\",\"기타지붕\",\"세대수(세대)\", \\\n",
    "            \"가구수(가구)\",\"높이(m)\",\"지상층수\",\"지하층수\",\"승용승강기수\",\"비상용승강기수\",\"부속건축물수\", \\\n",
    "            \"부속건축물면적\",\"총동연면적\",\"옥내기계식대수(대)\",\"옥내기계식면적\",\"옥외기계식대수(대)\", \\\n",
    "            \"옥외기계식면적\",\"옥내자주식대수(대)\",\"옥내자주식면적\",\"옥외자주식대수(대)\",\"옥외자주식면적\", \\\n",
    "            \"허가일\",\"착공일\",\"사용승인일\",\"허가번호년\",\"허가번호기관코드\",\"허가번호기관코드명\", \\\n",
    "            \"허가번호구분코드\",\"허가번호구분코드명\",\"호수(호)\",\"에너지효율등급\",\"에너지절감율\", \\\n",
    "            \"에너지EPI점수\",\"친환경건축물등급\",\"친환경건축물인증점수\",\"지능형건축물등급\",\"지능형건축물인증점수\", \\\n",
    "            \"생성일자\",\"내진설계적용여부\",\"내진능력\"]\n",
    "\n",
    "df = pd.read_csv(\"data/rawdata/building/표제부/mart_djy_03.txt\", sep = \"\\|\", engine='python', dtype=str, \\\n",
    "                    on_bad_lines='skip', keep_default_na=False, encoding = \"cp949\", header=None, names=columns)\n",
    "df = df.replace({np.nan: None})\n",
    "\n",
    "# preprocessing\n",
    "df[df.columns] = df.apply(lambda x: x.str.strip())\n",
    "\n",
    "# 관리건출물대장PK가 없는 row는 삭제\n",
    "index = df[df['관리건축물대장PK'] == None].index\n",
    "df = df.drop(index)\n",
    "\n",
    "print(f\"총 {df.shape[0]} 개의 행수가 있습니다.\")"
   ]
  },
  {
   "cell_type": "code",
   "execution_count": 6,
   "metadata": {},
   "outputs": [],
   "source": [
    "# 속성 rdf 파일을 만들기 위해 속성으로만 df 만들기\n",
    "\n",
    "col = list(df.columns)\n",
    "col_df = pd.DataFrame(col, columns=[\"속성명\"])"
   ]
  },
  {
   "cell_type": "markdown",
   "metadata": {},
   "source": [
    "### (1-2) 데이터 쪼개기"
   ]
  },
  {
   "cell_type": "code",
   "execution_count": 14,
   "metadata": {},
   "outputs": [
    {
     "data": {
      "text/plain": [
       "array(['27', '28', '30', '31', '45', '47', '43', '44', '11', '41', '46',\n",
       "       '50', '48', '26', '29', '42', '36'], dtype=object)"
      ]
     },
     "execution_count": 14,
     "metadata": {},
     "output_type": "execute_result"
    }
   ],
   "source": [
    "# 시도 코드 만들기\n",
    "\n",
    "df['시도코드'] = df['시군구코드'].apply(lambda s : str(s)[:2])\n",
    "df['시도코드'].unique()"
   ]
  },
  {
   "cell_type": "code",
   "execution_count": 15,
   "metadata": {},
   "outputs": [
    {
     "name": "stdout",
     "output_type": "stream",
     "text": [
      "c:\\Users\\datahub\\Documents\\GitHub\\seon-dask-bigdata-tutorial\n"
     ]
    }
   ],
   "source": [
    "print(os.getcwd())"
   ]
  },
  {
   "cell_type": "code",
   "execution_count": 27,
   "metadata": {},
   "outputs": [
    {
     "name": "stderr",
     "output_type": "stream",
     "text": [
      "c:\\Users\\datahub\\anaconda3\\lib\\site-packages\\pandas\\core\\frame.py:4906: SettingWithCopyWarning: \n",
      "A value is trying to be set on a copy of a slice from a DataFrame\n",
      "\n",
      "See the caveats in the documentation: https://pandas.pydata.org/pandas-docs/stable/user_guide/indexing.html#returning-a-view-versus-a-copy\n",
      "  return super().drop(\n"
     ]
    },
    {
     "name": "stdout",
     "output_type": "stream",
     "text": [
      "27 260713\n",
      "28 230930\n",
      "30 144160\n",
      "31 152299\n",
      "45 505344\n",
      "47 911810\n",
      "43 446735\n",
      "44 592869\n",
      "11 595368\n",
      "41 1286913\n",
      "46 727574\n",
      "50 208477\n",
      "48 794192\n",
      "26 362199\n",
      "29 188306\n",
      "42 459410\n",
      "36 37809\n",
      "7905108\n"
     ]
    }
   ],
   "source": [
    "region_code = list(df['시도코드'].unique())\n",
    "final_num = 0\n",
    "\n",
    "for code in region_code : \n",
    "    df_temp = df[df['시도코드'] == code]\n",
    "    df_temp.drop('시도코드', axis = 1, inplace=True)\n",
    "    df_temp.to_csv(f'data/split_data/{code}.csv', index = False)\n",
    "    \n",
    "    num_row = len(df_temp)\n",
    "    \n",
    "    print(code, num_row)\n",
    "    \n",
    "    final_num += num_row\n",
    "    \n",
    "print(final_num) # 전체 df 수량과 맞는지 확인"
   ]
  },
  {
   "cell_type": "markdown",
   "metadata": {},
   "source": [
    "### (2) RDF 변환"
   ]
  },
  {
   "cell_type": "code",
   "execution_count": 5,
   "metadata": {},
   "outputs": [],
   "source": [
    "# namespace \n",
    "buid_def = \"http://data.kisti.re.kr/administration/building/def/\"\n",
    "buid_id = \"http://data.kisti.re.kr/administration/building/id/\"\n",
    "BUID = Namespace(buid_def)\n",
    "\n",
    "# function (convert cell to rdf)\n",
    "def cell(store, s, p, df_col, datatype = None, lang = None):\n",
    "    if df_col != None:\n",
    "        store.add((s, p, Literal(df_col, datatype=datatype, lang = lang)))\n",
    "        \n",
    "def uri(store, s, p, df_col, objClass = None, objURI = None) :\n",
    "    if df_col != None :\n",
    "        obj = URIRef(objURI + df_col) \n",
    "        store.add((s, p, obj))\n",
    "        if objClass != None :\n",
    "            store.add((obj, RDF.type, objClass))"
   ]
  },
  {
   "cell_type": "markdown",
   "metadata": {},
   "source": [
    "### (3) 속성 만들기 "
   ]
  },
  {
   "cell_type": "code",
   "execution_count": 4,
   "metadata": {},
   "outputs": [
    {
     "ename": "NameError",
     "evalue": "name 'BUID' is not defined",
     "output_type": "error",
     "traceback": [
      "\u001b[1;31m---------------------------------------------------------------------------\u001b[0m",
      "\u001b[1;31mNameError\u001b[0m                                 Traceback (most recent call last)",
      "\u001b[1;32m<timed exec>\u001b[0m in \u001b[0;36m<module>\u001b[1;34m\u001b[0m\n",
      "\u001b[1;31mNameError\u001b[0m: name 'BUID' is not defined"
     ]
    }
   ],
   "source": [
    "%%time\n",
    "\n",
    "# generate Graph()\n",
    "g = Graph()\n",
    "g.bind(\"buid\", BUID)\n",
    "\n",
    "#vocab \n",
    "for idx, row in tqdm(col_df.iterrows(), total=col_df.shape[0]):\n",
    "    # base def \n",
    "    bui_uri = URIRef(buid_def + f\"pp{idx+1}\")\n",
    "    g.add((bui_uri, RDFS.label, Literal(row[\"속성명\"])))\n",
    "\n",
    "# save as ttl\n",
    "g.serialize(destination=f\"final-data/ttl/building-property-pyojebu-{today}.ttl\", format=\"turtle\")"
   ]
  },
  {
   "cell_type": "markdown",
   "metadata": {},
   "source": [
    "### (4) 건축물대장 표제부 변환하기"
   ]
  },
  {
   "cell_type": "code",
   "execution_count": 7,
   "metadata": {},
   "outputs": [
    {
     "name": "stderr",
     "output_type": "stream",
     "text": [
      " 30%|██▉       | 2360972/7905108 [1:55:58<3:15:41, 472.18it/s]   "
     ]
    }
   ],
   "source": [
    "%%time\n",
    "\n",
    "# generate Graph()\n",
    "g = Graph()\n",
    "g.bind(\"buid\", BUID)\n",
    "\n",
    "for idx, row in tqdm(df.iterrows(), total=df.shape[0]):\n",
    "    # base id \n",
    "    uri_buid = URIRef(buid_id + row[\"관리건축물대장PK\"])\n",
    "\n",
    "    # type\n",
    "    g.add((uri_buid, RDF.type, BUID.Building))\n",
    "\n",
    "    # literal\n",
    "    for p in range(len(df.columns)):\n",
    "        cell(g, uri_buid, BUID[f\"pp{p+1}\"], row[f\"{df.columns[p]}\"])\n",
    "\n",
    "# the number of triples\n",
    "print(f\"총 {len(g)} 개의 트리플이 있습니다.\")\n",
    "\n",
    "# save as ttl\n",
    "g.serialize(destination=f\"final-data/ttl/building-pyo-{today}.ttl\", format=\"ttl\")"
   ]
  },
  {
   "cell_type": "code",
   "execution_count": 32,
   "metadata": {},
   "outputs": [],
   "source": [
    "df_row = pd.DataFrame()\n",
    "df_row = df_row.append(pd.Series(list_row), ignore_index = True)"
   ]
  },
  {
   "cell_type": "code",
   "execution_count": 6,
   "metadata": {},
   "outputs": [
    {
     "name": "stdout",
     "output_type": "stream",
     "text": [
      "50 시작합니다.\n"
     ]
    },
    {
     "name": "stderr",
     "output_type": "stream",
     "text": [
      "100%|██████████| 208477/208477 [05:56<00:00, 585.53it/s]\n"
     ]
    },
    {
     "name": "stdout",
     "output_type": "stream",
     "text": [
      "50 지역에는 총 13278902 개의 트리플이 있습니다.\n",
      "48 시작합니다.\n"
     ]
    },
    {
     "name": "stderr",
     "output_type": "stream",
     "text": [
      "100%|██████████| 794192/794192 [23:32<00:00, 562.44it/s]   \n"
     ]
    },
    {
     "name": "stdout",
     "output_type": "stream",
     "text": [
      "48 지역에는 총 50504154 개의 트리플이 있습니다.\n",
      "36 시작합니다.\n"
     ]
    },
    {
     "name": "stderr",
     "output_type": "stream",
     "text": [
      "100%|██████████| 37809/37809 [00:59<00:00, 635.64it/s]\n"
     ]
    },
    {
     "name": "stdout",
     "output_type": "stream",
     "text": [
      "36 지역에는 총 2446565 개의 트리플이 있습니다.\n",
      "Wall time: 1h 22min 57s\n"
     ]
    }
   ],
   "source": [
    "%%time\n",
    "# 시도별로 작업하는 수정 코드\n",
    "\n",
    "#2022-09-02기준 \n",
    "#'11','26','27','28','29','30','31','42','45','47','43','44','41','46',완료\n",
    "region_code = ['50','48','36']\n",
    "\n",
    "df_row = pd.DataFrame()\n",
    "\n",
    "for code in region_code :\n",
    "    print(code, \"시작합니다.\" )\n",
    "    df_region = pd.read_csv(f'data/split_data/{code}.csv', dtype = str)\n",
    "    df_region.replace({np.NaN : None}, inplace= True)\n",
    "    \n",
    "    # generate Graph()\n",
    "    g = Graph()\n",
    "    g.bind(\"buid\", BUID)\n",
    "\n",
    "    for idx, row in tqdm(df_region.iterrows(), total=df_region.shape[0]):\n",
    "        # base id \n",
    "        uri_buid = URIRef(buid_id + row[\"관리건축물대장PK\"])\n",
    "\n",
    "        # type\n",
    "        g.add((uri_buid, RDF.type, BUID.Building))\n",
    "\n",
    "        # literal\n",
    "        for p in range(len(df_region.columns)):\n",
    "            cell(g, uri_buid, BUID[f\"pp{p+1}\"], row[f\"{df_region.columns[p]}\"])\n",
    "    \n",
    "    # the number of triples\n",
    "    list_row = [code, int(len(g))]\n",
    "    df_row = df_row.append(pd.Series(list_row), ignore_index = True)\n",
    "    print(f\"{code} 지역에는 총 {list_row[1]} 개의 트리플이 있습니다.\")\n",
    "\n",
    "    # save as ttl\n",
    "    g.serialize(destination=f\"final-data/ttl/{code}-building-pyo-{today}.ttl\", format=\"ttl\")"
   ]
  },
  {
   "cell_type": "code",
   "execution_count": 5,
   "metadata": {},
   "outputs": [],
   "source": [
    "df_row.to_excel('data/split_data/num_of_data.xlsx', index = False)"
   ]
  },
  {
   "cell_type": "code",
   "execution_count": null,
   "metadata": {},
   "outputs": [],
   "source": [
    "region_code = ['27', '28', '30', '31', '45', '47', '43', '44', '11', '41', '46', '50', '48', '26', '29', '42', '36']\n",
    "region_code_label = ['대구광역시', '인천광역시', '대전광역시', '울산광역시', '전라북도', '경상북도', '충청북도', '충청남도', '서울특별시', \n",
    "                     '경기도', '전라남도', '제주특별자치도', '경상남도', '부산광역시', '광주광역시', '강원도', '세종특별자치시']\n",
    "\n"
   ]
  },
  {
   "cell_type": "code",
   "execution_count": 7,
   "metadata": {},
   "outputs": [
    {
     "ename": "SMTPAuthenticationError",
     "evalue": "(535, b'5.7.8 Username and Password not accepted. Learn more at\\n5.7.8  https://support.google.com/mail/?p=BadCredentials 188-20020a6216c5000000b005368fcfb7f8sm413829pfw.89 - gsmtp')",
     "output_type": "error",
     "traceback": [
      "\u001b[1;31m---------------------------------------------------------------------------\u001b[0m",
      "\u001b[1;31mSMTPAuthenticationError\u001b[0m                   Traceback (most recent call last)",
      "\u001b[1;32m<ipython-input-7-8eab20df65d0>\u001b[0m in \u001b[0;36m<module>\u001b[1;34m\u001b[0m\n\u001b[0;32m      5\u001b[0m \u001b[0msmtp\u001b[0m\u001b[1;33m.\u001b[0m\u001b[0mehlo\u001b[0m\u001b[1;33m(\u001b[0m\u001b[1;33m)\u001b[0m      \u001b[1;31m# say Hello\u001b[0m\u001b[1;33m\u001b[0m\u001b[1;33m\u001b[0m\u001b[0m\n\u001b[0;32m      6\u001b[0m \u001b[0msmtp\u001b[0m\u001b[1;33m.\u001b[0m\u001b[0mstarttls\u001b[0m\u001b[1;33m(\u001b[0m\u001b[1;33m)\u001b[0m  \u001b[1;31m# TLS 사용시 필요\u001b[0m\u001b[1;33m\u001b[0m\u001b[1;33m\u001b[0m\u001b[0m\n\u001b[1;32m----> 7\u001b[1;33m \u001b[0msmtp\u001b[0m\u001b[1;33m.\u001b[0m\u001b[0mlogin\u001b[0m\u001b[1;33m(\u001b[0m\u001b[1;34m'haram9553@gmail.com'\u001b[0m\u001b[1;33m,\u001b[0m \u001b[1;34m'888888'\u001b[0m\u001b[1;33m)\u001b[0m\u001b[1;33m\u001b[0m\u001b[1;33m\u001b[0m\u001b[0m\n\u001b[0m\u001b[0;32m      8\u001b[0m \u001b[1;33m\u001b[0m\u001b[0m\n\u001b[0;32m      9\u001b[0m \u001b[0mto_mail_list\u001b[0m \u001b[1;33m=\u001b[0m \u001b[1;33m[\u001b[0m\u001b[1;34m'chaeeunsong.hike@gmail.com'\u001b[0m\u001b[1;33m,\u001b[0m \u001b[1;34m'haram9553@gmail.com'\u001b[0m\u001b[1;33m]\u001b[0m\u001b[1;33m\u001b[0m\u001b[1;33m\u001b[0m\u001b[0m\n",
      "\u001b[1;32mc:\\Users\\datahub\\anaconda3\\lib\\smtplib.py\u001b[0m in \u001b[0;36mlogin\u001b[1;34m(self, user, password, initial_response_ok)\u001b[0m\n\u001b[0;32m    732\u001b[0m \u001b[1;33m\u001b[0m\u001b[0m\n\u001b[0;32m    733\u001b[0m         \u001b[1;31m# We could not login successfully.  Return result of last attempt.\u001b[0m\u001b[1;33m\u001b[0m\u001b[1;33m\u001b[0m\u001b[1;33m\u001b[0m\u001b[0m\n\u001b[1;32m--> 734\u001b[1;33m         \u001b[1;32mraise\u001b[0m \u001b[0mlast_exception\u001b[0m\u001b[1;33m\u001b[0m\u001b[1;33m\u001b[0m\u001b[0m\n\u001b[0m\u001b[0;32m    735\u001b[0m \u001b[1;33m\u001b[0m\u001b[0m\n\u001b[0;32m    736\u001b[0m     \u001b[1;32mdef\u001b[0m \u001b[0mstarttls\u001b[0m\u001b[1;33m(\u001b[0m\u001b[0mself\u001b[0m\u001b[1;33m,\u001b[0m \u001b[0mkeyfile\u001b[0m\u001b[1;33m=\u001b[0m\u001b[1;32mNone\u001b[0m\u001b[1;33m,\u001b[0m \u001b[0mcertfile\u001b[0m\u001b[1;33m=\u001b[0m\u001b[1;32mNone\u001b[0m\u001b[1;33m,\u001b[0m \u001b[0mcontext\u001b[0m\u001b[1;33m=\u001b[0m\u001b[1;32mNone\u001b[0m\u001b[1;33m)\u001b[0m\u001b[1;33m:\u001b[0m\u001b[1;33m\u001b[0m\u001b[1;33m\u001b[0m\u001b[0m\n",
      "\u001b[1;32mc:\\Users\\datahub\\anaconda3\\lib\\smtplib.py\u001b[0m in \u001b[0;36mlogin\u001b[1;34m(self, user, password, initial_response_ok)\u001b[0m\n\u001b[0;32m    721\u001b[0m             \u001b[0mmethod_name\u001b[0m \u001b[1;33m=\u001b[0m \u001b[1;34m'auth_'\u001b[0m \u001b[1;33m+\u001b[0m \u001b[0mauthmethod\u001b[0m\u001b[1;33m.\u001b[0m\u001b[0mlower\u001b[0m\u001b[1;33m(\u001b[0m\u001b[1;33m)\u001b[0m\u001b[1;33m.\u001b[0m\u001b[0mreplace\u001b[0m\u001b[1;33m(\u001b[0m\u001b[1;34m'-'\u001b[0m\u001b[1;33m,\u001b[0m \u001b[1;34m'_'\u001b[0m\u001b[1;33m)\u001b[0m\u001b[1;33m\u001b[0m\u001b[1;33m\u001b[0m\u001b[0m\n\u001b[0;32m    722\u001b[0m             \u001b[1;32mtry\u001b[0m\u001b[1;33m:\u001b[0m\u001b[1;33m\u001b[0m\u001b[1;33m\u001b[0m\u001b[0m\n\u001b[1;32m--> 723\u001b[1;33m                 (code, resp) = self.auth(\n\u001b[0m\u001b[0;32m    724\u001b[0m                     \u001b[0mauthmethod\u001b[0m\u001b[1;33m,\u001b[0m \u001b[0mgetattr\u001b[0m\u001b[1;33m(\u001b[0m\u001b[0mself\u001b[0m\u001b[1;33m,\u001b[0m \u001b[0mmethod_name\u001b[0m\u001b[1;33m)\u001b[0m\u001b[1;33m,\u001b[0m\u001b[1;33m\u001b[0m\u001b[1;33m\u001b[0m\u001b[0m\n\u001b[0;32m    725\u001b[0m                     initial_response_ok=initial_response_ok)\n",
      "\u001b[1;32mc:\\Users\\datahub\\anaconda3\\lib\\smtplib.py\u001b[0m in \u001b[0;36mauth\u001b[1;34m(self, mechanism, authobject, initial_response_ok)\u001b[0m\n\u001b[0;32m    644\u001b[0m         \u001b[1;32mif\u001b[0m \u001b[0mcode\u001b[0m \u001b[1;32min\u001b[0m \u001b[1;33m(\u001b[0m\u001b[1;36m235\u001b[0m\u001b[1;33m,\u001b[0m \u001b[1;36m503\u001b[0m\u001b[1;33m)\u001b[0m\u001b[1;33m:\u001b[0m\u001b[1;33m\u001b[0m\u001b[1;33m\u001b[0m\u001b[0m\n\u001b[0;32m    645\u001b[0m             \u001b[1;32mreturn\u001b[0m \u001b[1;33m(\u001b[0m\u001b[0mcode\u001b[0m\u001b[1;33m,\u001b[0m \u001b[0mresp\u001b[0m\u001b[1;33m)\u001b[0m\u001b[1;33m\u001b[0m\u001b[1;33m\u001b[0m\u001b[0m\n\u001b[1;32m--> 646\u001b[1;33m         \u001b[1;32mraise\u001b[0m \u001b[0mSMTPAuthenticationError\u001b[0m\u001b[1;33m(\u001b[0m\u001b[0mcode\u001b[0m\u001b[1;33m,\u001b[0m \u001b[0mresp\u001b[0m\u001b[1;33m)\u001b[0m\u001b[1;33m\u001b[0m\u001b[1;33m\u001b[0m\u001b[0m\n\u001b[0m\u001b[0;32m    647\u001b[0m \u001b[1;33m\u001b[0m\u001b[0m\n\u001b[0;32m    648\u001b[0m     \u001b[1;32mdef\u001b[0m \u001b[0mauth_cram_md5\u001b[0m\u001b[1;33m(\u001b[0m\u001b[0mself\u001b[0m\u001b[1;33m,\u001b[0m \u001b[0mchallenge\u001b[0m\u001b[1;33m=\u001b[0m\u001b[1;32mNone\u001b[0m\u001b[1;33m)\u001b[0m\u001b[1;33m:\u001b[0m\u001b[1;33m\u001b[0m\u001b[1;33m\u001b[0m\u001b[0m\n",
      "\u001b[1;31mSMTPAuthenticationError\u001b[0m: (535, b'5.7.8 Username and Password not accepted. Learn more at\\n5.7.8  https://support.google.com/mail/?p=BadCredentials 188-20020a6216c5000000b005368fcfb7f8sm413829pfw.89 - gsmtp')"
     ]
    }
   ],
   "source": [
    "import smtplib\n",
    "from email.mime.text import MIMEText\n",
    "\n",
    "smtp = smtplib.SMTP('smtp.gmail.com', 587)\n",
    "smtp.ehlo()      # say Hello\n",
    "smtp.starttls()  # TLS 사용시 필요\n",
    "smtp.login('haram9553@gmail.com', '888888')\n",
    "\n",
    "to_mail_list = ['chaeeunsong.hike@gmail.com', 'haram9553@gmail.com']\n",
    "\n",
    "for to_mail in to_mail_list : \n",
    "    msg = MIMEText('변환 완료')\n",
    "    msg['Subject'] = '표제부 데이터 변환이 끝났습니다.'\n",
    "    msg['To'] = to_mail\n",
    "    smtp.sendmail('haram9553@gmail.com', to_mail, msg.as_string())\n",
    " \n",
    "smtp.quit()"
   ]
  },
  {
   "cell_type": "code",
   "execution_count": null,
   "metadata": {},
   "outputs": [],
   "source": []
  },
  {
   "cell_type": "markdown",
   "metadata": {},
   "source": [
    "# 표제부 raw 데이터 수량"
   ]
  },
  {
   "cell_type": "code",
   "execution_count": 3,
   "metadata": {},
   "outputs": [
    {
     "name": "stdout",
     "output_type": "stream",
     "text": [
      "11 행 수:  595368\n",
      "26 행 수:  362199\n",
      "27 행 수:  260713\n",
      "28 행 수:  230930\n",
      "29 행 수:  188306\n",
      "30 행 수:  144160\n",
      "31 행 수:  152299\n",
      "42 행 수:  459410\n",
      "45 행 수:  505344\n",
      "47 행 수:  911810\n",
      "43 행 수:  446735\n",
      "44 행 수:  592869\n",
      "41 행 수:  1286913\n",
      "46 행 수:  727574\n",
      "50 행 수:  208477\n",
      "48 행 수:  794192\n",
      "36 행 수:  37809\n"
     ]
    }
   ],
   "source": [
    "#2022-09-02기준 \n",
    "#'11','26','27','28','29','30','31','42','45','47','43','44','41','46',완료\n",
    "region_code = ['11','26','27','28','29','30','31','42','45','47','43','44','41','46','50','48','36']\n",
    "\n",
    "df_row = pd.DataFrame()\n",
    "\n",
    "for code in region_code :\n",
    "    df_region = pd.read_csv(f'data/split_data/{code}.csv', dtype = str)\n",
    "    df_region.replace({np.NaN : None}, inplace= True)\n",
    "    print(code, \"행 수: \", len(df_region))"
   ]
  },
  {
   "cell_type": "code",
   "execution_count": 4,
   "metadata": {},
   "outputs": [
    {
     "name": "stdout",
     "output_type": "stream",
     "text": [
      "11 행 수:  (595368, 77)\n",
      "26 행 수:  (362199, 77)\n",
      "27 행 수:  (260713, 77)\n",
      "28 행 수:  (230930, 77)\n",
      "29 행 수:  (188306, 77)\n",
      "30 행 수:  (144160, 77)\n",
      "31 행 수:  (152299, 77)\n",
      "42 행 수:  (459410, 77)\n",
      "45 행 수:  (505344, 77)\n",
      "47 행 수:  (911810, 77)\n",
      "43 행 수:  (446735, 77)\n",
      "44 행 수:  (592869, 77)\n",
      "41 행 수:  (1286913, 77)\n",
      "46 행 수:  (727574, 77)\n",
      "50 행 수:  (208477, 77)\n",
      "48 행 수:  (794192, 77)\n",
      "36 행 수:  (37809, 77)\n"
     ]
    }
   ],
   "source": [
    "#2022-09-02기준 \n",
    "#'11','26','27','28','29','30','31','42','45','47','43','44','41','46',완료\n",
    "region_code = ['11','26','27','28','29','30','31','42','45','47','43','44','41','46','50','48','36']\n",
    "\n",
    "df_row = pd.DataFrame()\n",
    "\n",
    "for code in region_code :\n",
    "    df_region = pd.read_csv(f'data/split_data/{code}.csv', dtype = str)\n",
    "    df_region.replace({np.NaN : None}, inplace= True)\n",
    "    print(code, \"행 수: \", df_region.shape)"
   ]
  },
  {
   "cell_type": "code",
   "execution_count": null,
   "metadata": {},
   "outputs": [],
   "source": []
  }
 ],
 "metadata": {
  "kernelspec": {
   "display_name": "Python 3.8.3 ('base')",
   "language": "python",
   "name": "python3"
  },
  "language_info": {
   "codemirror_mode": {
    "name": "ipython",
    "version": 3
   },
   "file_extension": ".py",
   "mimetype": "text/x-python",
   "name": "python",
   "nbconvert_exporter": "python",
   "pygments_lexer": "ipython3",
   "version": "3.8.3"
  },
  "orig_nbformat": 4,
  "vscode": {
   "interpreter": {
    "hash": "f97b8bff7ca864bc61cf22f71b50b5fb5f43d875583e4916d55708b21b362fb0"
   }
  }
 },
 "nbformat": 4,
 "nbformat_minor": 2
}
