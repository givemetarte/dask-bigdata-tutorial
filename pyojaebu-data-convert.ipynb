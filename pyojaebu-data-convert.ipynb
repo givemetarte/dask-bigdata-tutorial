{
 "cells": [
  {
   "cell_type": "code",
   "execution_count": 2,
   "metadata": {},
   "outputs": [],
   "source": [
    "import numpy as np\n",
    "import pandas as pd \n",
    "import glob\n",
    "from tqdm import tqdm\n",
    "import hashlib\n",
    "import datetime\n",
    "\n",
    "from rdflib import Namespace, Literal, URIRef\n",
    "from rdflib.graph import Graph, ConjunctiveGraph\n",
    "from rdflib.namespace import CSVW, DC, DCAT, DCTERMS, DOAP, FOAF, ODRL2, ORG, OWL, \\\n",
    "                           PROF, PROV, RDF, RDFS, SDO, SH, SKOS, SOSA, SSN, TIME, \\\n",
    "                           VOID, XMLNS, XSD"
   ]
  },
  {
   "cell_type": "code",
   "execution_count": 3,
   "metadata": {},
   "outputs": [
    {
     "name": "stdout",
     "output_type": "stream",
     "text": [
      "마지막으로 실행한 날짜는 2022-08-26 입니다.\n"
     ]
    }
   ],
   "source": [
    "# today\n",
    "today = datetime.date.today()\n",
    "print(f\"마지막으로 실행한 날짜는 {today} 입니다.\")"
   ]
  },
  {
   "cell_type": "markdown",
   "metadata": {},
   "source": [
    "### (1) 건축물대장 표제부 데이터 불러오기"
   ]
  },
  {
   "cell_type": "code",
   "execution_count": null,
   "metadata": {},
   "outputs": [],
   "source": [
    "%%time\n",
    "\n",
    "columns = [\"관리건축물대장PK\",\"대장구분코드\",\"대장구분코드명\",\"대장종류코드\",\"대장종류코드명\",\"대지위치\", \\\n",
    "            \"도로명대지위치\",\"건물명\",\"시군구코드\",\"법정동코드\",\"대지구분코드\",\"번\",\"지\",\"특수지명\", \\\n",
    "            \"블록\",\"로트\",\"외필지수\",\"새주소도로코드\",\"새주소법정동코드\",\"새주소지상지하코드\",\"새주소본번\", \\\n",
    "            \"새주소부번\",\"동명\",\"주부속구분코드\",\"주부속구분코드명\",\"대지면적(㎡)\",\"건축면적(㎡)\", \\\n",
    "            \"건폐율(%)\",\"연면적\",\"용적률산정연면적\",\"용적률\",\"구조코드\",\"구조코드명\",\"기타구조\", \\\n",
    "            \"주용도코드\",\"주용도코드명\",\"기타용도\",\"지붕코드\",\"지붕코드명\",\"기타지붕\",\"세대수(세대)\", \\\n",
    "            \"가구수(가구)\",\"높이(m)\",\"지상층수\",\"지하층수\",\"승용승강기수\",\"비상용승강기수\",\"부속건축물수\", \\\n",
    "            \"부속건축물면적\",\"총동연면적\",\"옥내기계식대수(대)\",\"옥내기계식면적\",\"옥외기계식대수(대)\", \\\n",
    "            \"옥외기계식면적\",\"옥내자주식대수(대)\",\"옥내자주식면적\",\"옥외자주식대수(대)\",\"옥외자주식면적\", \\\n",
    "            \"허가일\",\"착공일\",\"사용승인일\",\"허가번호년\",\"허가번호기관코드\",\"허가번호기관코드명\", \\\n",
    "            \"허가번호구분코드\",\"허가번호구분코드명\",\"호수(호)\",\"에너지효율등급\",\"에너지절감율\", \\\n",
    "            \"에너지EPI점수\",\"친환경건축물등급\",\"친환경건축물인증점수\",\"지능형건축물등급\",\"지능형건축물인증점수\", \\\n",
    "            \"생성일자\",\"내진설계적용여부\",\"내진능력\"]\n",
    "\n",
    "df = pd.read_csv(\"data/rawdata/building/표제부/mart_djy_03.txt\", sep = \"\\|\", engine='python', dtype=str, \\\n",
    "                    on_bad_lines='skip', keep_default_na=False, encoding = \"cp949\", header=None, names=columns)\n",
    "df = df.replace({np.nan: None})\n",
    "\n",
    "# preprocessing\n",
    "df[df.columns] = df.apply(lambda x: x.str.strip())\n",
    "print(f\"총 {df.shape[0]} 개의 행수가 있습니다.\")"
   ]
  },
  {
   "cell_type": "code",
   "execution_count": null,
   "metadata": {},
   "outputs": [],
   "source": [
    "# 속성 rdf 파일을 만들기 위해 속성으로만 df 만들기\n",
    "\n",
    "col = list(df.columns)\n",
    "col_df = pd.DataFrame(col, columns=[\"속성명\"])"
   ]
  },
  {
   "cell_type": "markdown",
   "metadata": {},
   "source": [
    "### (2) RDF 변환"
   ]
  },
  {
   "cell_type": "code",
   "execution_count": 5,
   "metadata": {},
   "outputs": [],
   "source": [
    "# namespace \n",
    "buid_def = \"http://data.kisti.re.kr/administration/building/def/\"\n",
    "buid_id = \"http://data.kisti.re.kr/administration/building/id/\"\n",
    "BUID = Namespace(buid_def)\n",
    "\n",
    "# function (convert cell to rdf)\n",
    "def cell(store, s, p, df_col, datatype = None, lang = None):\n",
    "    if df_col != None:\n",
    "        store.add((s, p, Literal(df_col, datatype=datatype, lang = lang)))\n",
    "        \n",
    "def uri(store, s, p, df_col, objClass = None, objURI = None) :\n",
    "    if df_col != None :\n",
    "        obj = URIRef(objURI + df_col) \n",
    "        store.add((s, p, obj))\n",
    "        if objClass != None :\n",
    "            store.add((obj, RDF.type, objClass))"
   ]
  },
  {
   "cell_type": "markdown",
   "metadata": {},
   "source": [
    "### (3) 속성 만들기 "
   ]
  },
  {
   "cell_type": "code",
   "execution_count": null,
   "metadata": {},
   "outputs": [],
   "source": [
    "%%time\n",
    "\n",
    "# generate Graph()\n",
    "g = Graph()\n",
    "g.bind(\"buid\", BUID)\n",
    "\n",
    "#vocab \n",
    "for idx, row in tqdm(col_df.iterrows(), total=col_df.shape[0]):\n",
    "    # base def \n",
    "    bui_uri = URIRef(buid_def + f\"bp{idx+1}\")\n",
    "    g.add((bui_uri, RDFS.label, Literal(row[\"속성명\"])))\n",
    "\n",
    "# save as ttl\n",
    "g.serialize(destination=f\"final-data/ttl/building-property-{today}.ttl\", format=\"turtle\")"
   ]
  },
  {
   "cell_type": "markdown",
   "metadata": {},
   "source": [
    "### (4) 건축물대장 표제부 변환하기"
   ]
  },
  {
   "cell_type": "code",
   "execution_count": null,
   "metadata": {},
   "outputs": [],
   "source": [
    "%%time\n",
    "\n",
    "# generate Graph()\n",
    "g = Graph()\n",
    "g.bind(\"buid\", BUID)\n",
    "\n",
    "for idx, row in tqdm(df.iterrows(), total=df.shape[0]):\n",
    "    # base id \n",
    "    uri_buid = URIRef(buid_def + row[\"관리건축물대장PK\"])\n",
    "\n",
    "    # type\n",
    "    g.add((uri_buid, RDF.type, BUID.Building))\n",
    "\n",
    "    # literal\n",
    "    for p in range(len(df.columns)):\n",
    "        cell(g, uri_buid, BUID[f\"bp{p+1}\"], row[f\"{df.columns[p]}\"])\n",
    "\n",
    "# the number of triples\n",
    "print(f\"총 {len(g)} 개의 트리플이 있습니다.\")\n",
    "\n",
    "# save as ttl\n",
    "g.serialize(destination=f\"final-data/ttl/building-pyo-{today}.ttl\", format=\"ttl\")"
   ]
  }
 ],
 "metadata": {
  "kernelspec": {
   "display_name": "Python 3.9.13 64-bit",
   "language": "python",
   "name": "python3"
  },
  "language_info": {
   "codemirror_mode": {
    "name": "ipython",
    "version": 3
   },
   "file_extension": ".py",
   "mimetype": "text/x-python",
   "name": "python",
   "nbconvert_exporter": "python",
   "pygments_lexer": "ipython3",
   "version": "3.9.13"
  },
  "orig_nbformat": 4,
  "vscode": {
   "interpreter": {
    "hash": "b0fa6594d8f4cbf19f97940f81e996739fb7646882a419484c72d19e05852a7e"
   }
  }
 },
 "nbformat": 4,
 "nbformat_minor": 2
}
