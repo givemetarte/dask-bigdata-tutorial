{
 "cells": [
  {
   "cell_type": "code",
   "execution_count": 1,
   "metadata": {},
   "outputs": [],
   "source": [
    "import smtplib\n",
    "from email.mime.text import MIMEText\n",
    "\n",
    "smtp = smtplib.SMTP('smtp.gmail.com', 587)\n",
    "smtp.ehlo()      # say Hello\n",
    "smtp.starttls()  # TLS 사용시 필요\n",
    "smtp.login('mumbb0909@gmail.com', '****')\n",
    "\n",
    "to_mail_list = ['chaeeunsong.hike@gmail.com', 'mumbb@naver.com']\n",
    "\n",
    "for to_mail in to_mail_list : \n",
    "    msg = MIMEText('변환 완료')\n",
    "    msg['Subject'] = '표제부 데이터 변환이 끝났습니다.'\n",
    "    msg['To'] = to_mail\n",
    "    smtp.sendmail('mumbb0909@gmail.com', to_mail, msg.as_string())\n",
    " \n",
    "smtp.quit()"
   ]
  },
  {
   "cell_type": "code",
   "execution_count": null,
   "metadata": {},
   "outputs": [],
   "source": []
  }
 ],
 "metadata": {
  "kernelspec": {
   "display_name": "Python 3.8.3 ('base')",
   "language": "python",
   "name": "python3"
  },
  "language_info": {
   "codemirror_mode": {
    "name": "ipython",
    "version": 3
   },
   "file_extension": ".py",
   "mimetype": "text/x-python",
   "name": "python",
   "nbconvert_exporter": "python",
   "pygments_lexer": "ipython3",
   "version": "3.8.3"
  },
  "orig_nbformat": 4,
  "vscode": {
   "interpreter": {
    "hash": "f97b8bff7ca864bc61cf22f71b50b5fb5f43d875583e4916d55708b21b362fb0"
   }
  }
 },
 "nbformat": 4,
 "nbformat_minor": 2
}
