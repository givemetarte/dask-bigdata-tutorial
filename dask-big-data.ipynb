{
 "cells": [
  {
   "cell_type": "markdown",
   "metadata": {},
   "source": [
    "# dask로 데이터 열고, 전처리하기"
   ]
  },
  {
   "cell_type": "code",
   "execution_count": 1,
   "metadata": {},
   "outputs": [],
   "source": [
    "import pandas as pd \n",
    "import glob\n",
    "from tqdm import tqdm\n",
    "import dask.dataframe as dd\n",
    "\n",
    "def make_sido_code(row):\n",
    "    return str(row[\"시군구코드\"])[:2]"
   ]
  },
  {
   "cell_type": "markdown",
   "metadata": {},
   "source": [
    "### (1) 건축물대장 기본개요"
   ]
  },
  {
   "cell_type": "code",
   "execution_count": 64,
   "metadata": {},
   "outputs": [
    {
     "name": "stdout",
     "output_type": "stream",
     "text": [
      "건축물대장 기본개요의 분할된 개수는 80개입니다.\n",
      "Wall time: 9min\n"
     ]
    }
   ],
   "source": [
    "%%time\n",
    "\n",
    "# 건축물대장 기본개요\n",
    "columns = [\"관리건축물대장PK\",\"관리상위건축물대장PK\",\"대장구분코드\",\"대장구분코드명\",\"대장종류코드\",\"대장종류코드명\", \\\n",
    "            \"대지위치\",\"도로명대지위치\",\"건물명\",\"시군구코드\",\"법정동코드\",\"대지구분코드\",\"번\",\"지\",\"특수지명\",\"블록\",\"로트\",\"외필지수\", \\\n",
    "            \"새주소도로코드\",\"새주소법정동코드\",\"새주소지상지하코드\",\"새주소본번\",\"새주소부번\",\"지역코드\",\"지구코드\",\"구역코드\", \\\n",
    "            \"지역코드명\",\"지구코드명\",\"구역코드명\",\"생성일자\"]\n",
    "\n",
    "basis = dd.read_csv(\"data/rawdata/building/기본개요/mart_djy_01.txt\", sep = \"\\|\", engine='python', dtype=str, \\\n",
    "                    on_bad_lines='skip', keep_default_na=False, encoding = \"cp949\", header=None, names=columns)\n",
    "print(f\"건축물대장 기본개요의 분할된 개수는 {basis.npartitions}개입니다.\")\n",
    "\n",
    "busan_basis = basis[[\"관리건축물대장PK\", \"관리상위건축물대장PK\", \"시군구코드\"]]\n",
    "busan_basis[\"시도코드\"] = busan_basis.apply(make_sido_code, axis=1, meta=object)\n",
    "busan_basis = busan_basis[busan_basis[\"시도코드\"] == \"26\"].drop([\"시군구코드\"], axis=1)\n",
    "\n",
    "# preprocessing\n",
    "busan_basis[\"관리건축물대장PK\"] = busan_basis[\"관리건축물대장PK\"].map(lambda x: x.strip())\n",
    "busan_basis[\"관리상위건축물대장PK\"] = busan_basis[\"관리상위건축물대장PK\"].map(lambda x: x.strip())\n",
    "busan_basis = busan_basis.drop(\"시도코드\", axis=1)\n",
    "\n",
    "# convert dask to pandas\n",
    "busan_basis = busan_basis.compute()\n",
    "\n",
    "# save csv\n",
    "busan_basis.to_csv(\"data/refined-data/busan-기본개요.csv\", encoding=\"utf-8\", index=False)"
   ]
  },
  {
   "cell_type": "markdown",
   "metadata": {},
   "source": [
    "### (2) 건축물대장 주택가격"
   ]
  },
  {
   "cell_type": "code",
   "execution_count": 65,
   "metadata": {},
   "outputs": [
    {
     "name": "stdout",
     "output_type": "stream",
     "text": [
      "건축물대장의 주택가격이 분할된 파일 개수는 416개입니다.\n",
      "주택가격의  행수는 9183677개입니다.\n",
      "Wall time: 43min 27s\n"
     ]
    }
   ],
   "source": [
    "%%time\n",
    "\n",
    "# 건축물대장 주택가격\n",
    "\n",
    "# names=columns\n",
    "# columns = [\"관리건축물대장PK\",\"대장구분코드\",\"대장구분코드명\",\"대장종류코드\",\"대장종류코드명\",\"대지위치\",\"도로명대지위치\", \\\n",
    "#             \"건물명\",\"시군구코드\",\"법정동코드\",\"대지구분코드\",\"번\",\"지\",\"특수지명\",\"블록\",\"로트\",\"외필지수\",\"새주소도로코드\", \\\n",
    "#             \"새주소지상지하코드\",\"새주소본번\",\"새주소부번\",\"기준일자\",\"주택가격\",\"생성일자\"]\n",
    "\n",
    "price = dd.read_csv(\"data/rawdata/building/주택가격/mart_djy_08.txt\", sep=\"\\|\", dtype=str, encoding='cp949',\n",
    "                        on_bad_lines=\"skip\", header=None, engine='python')\n",
    "\n",
    "# the number of partitions\n",
    "print(f\"건축물대장의 주택가격이 분할된 파일 개수는 {price.npartitions}개입니다.\")\n",
    "\n",
    "# save partitions\n",
    "# price.to_csv(\"data/rawdata/building/주택가격/csvs\", encoding=\"utf-8\")\n",
    "\n",
    "price_df = price[[0,8,23,24]]\n",
    "price_df.columns = [\"관리상위건축물대장PK\",\"시군구코드\",\"주택가격\",\"생성일자\"]\n",
    "price_df[\"시도코드\"] = price_df.apply(make_sido_code, axis=1, meta=object)\n",
    "price_df = price_df.loc[price_df[\"시도코드\"] == \"26\"]\n",
    "\n",
    "# preprocessing\n",
    "price_df[\"관리상위건축물대장PK\"] = price_df[\"관리상위건축물대장PK\"].map(lambda x: x.strip())\n",
    "price_df = price_df.map_partitions(lambda df: df.sort_values(by=\"생성일자\", ascending=False))\n",
    "price_df = price_df.drop([\"시도코드\"], axis=1).drop_duplicates()\n",
    "\n",
    "# convert dask to pandas\n",
    "busan_price_pdf = price_df.compute()\n",
    "\n",
    "# save csv\n",
    "busan_price_pdf.to_csv(\"data/refined-data/busan-price.csv\", encoding=\"utf-8\", index=False)\n",
    "\n",
    "# row 개수\n",
    "print(f\"주택가격의  행수는 {busan_price_pdf.shape[0]}개입니다.\")"
   ]
  },
  {
   "cell_type": "markdown",
   "metadata": {},
   "source": [
    "### (3) 건축물대장 표제부"
   ]
  },
  {
   "cell_type": "code",
   "execution_count": 102,
   "metadata": {},
   "outputs": [
    {
     "name": "stdout",
     "output_type": "stream",
     "text": [
      "건축물대장 표제부의 분할된 개수는 47개입니다.\n",
      "Wall time: 5min 32s\n"
     ]
    }
   ],
   "source": [
    "%%time\n",
    "\n",
    "columns = [\"관리건축물대장PK\",\"대장구분코드\",\"대장구분코드명\",\"대장종류코드\",\"대장종류코드명\",\"대지위치\", \\\n",
    "            \"도로명대지위치\",\"건물명\",\"시군구코드\",\"법정동코드\",\"대지구분코드\",\"번\",\"지\",\"특수지명\", \\\n",
    "            \"블록\",\"로트\",\"외필지수\",\"새주소도로코드\",\"새주소법정동코드\",\"새주소지상지하코드\",\"새주소본번\", \\\n",
    "            \"새주소부번\",\"동명\",\"주부속구분코드\",\"주부속구분코드명\",\"대지면적(㎡)\",\"건축면적(㎡)\", \\\n",
    "            \"건폐율(%)\",\"연면적\",\"용적률산정연면적\",\"용적률\",\"구조코드\",\"구조코드명\",\"기타구조\", \\\n",
    "            \"주용도코드\",\"주용도코드명\",\"기타용도\",\"지붕코드\",\"지붕코드명\",\"기타지붕\",\"세대수(세대)\", \\\n",
    "            \"가구수(가구)\",\"높이(m)\",\"지상층수\",\"지하층수\",\"승용승강기수\",\"비상용승강기수\",\"부속건축물수\", \\\n",
    "            \"부속건축물면적\",\"총동연면적\",\"옥내기계식대수(대)\",\"옥내기계식면적\",\"옥외기계식대수(대)\", \\\n",
    "            \"옥외기계식면적\",\"옥내자주식대수(대)\",\"옥내자주식면적\",\"옥외자주식대수(대)\",\"옥외자주식면적\", \\\n",
    "            \"허가일\",\"착공일\",\"사용승인일\",\"허가번호년\",\"허가번호기관코드\",\"허가번호기관코드명\", \\\n",
    "            \"허가번호구분코드\",\"허가번호구분코드명\",\"호수(호)\",\"에너지효율등급\",\"에너지절감율\", \\\n",
    "            \"에너지EPI점수\",\"친환경건축물등급\",\"친환경건축물인증점수\",\"지능형건축물등급\",\"지능형건축물인증점수\", \\\n",
    "            \"생성일자\",\"내진설계적용여부\",\"내진능력\"]\n",
    "\n",
    "building = dd.read_csv(\"data/rawdata/building/표제부/mart_djy_03.txt\", sep = \"\\|\", engine='python', dtype=str, \\\n",
    "                    on_bad_lines='skip', keep_default_na=False, encoding = \"cp949\", header=None, names=columns)\n",
    "print(f\"건축물대장 표제부의 분할된 개수는 {building.npartitions}개입니다.\")\n",
    "\n",
    "busan_building = building[[\"관리건축물대장PK\",\"대장종류코드명\",\"도로명대지위치\",\"시군구코드\",\"시군구코드\", \\\n",
    "                            \"대지면적(M2)\",\"건축면적(M2)\",\"건폐율(%)\", \"연면적\",\"주용도코드명\",\"가구수(가구)\",\"높이(M)\",\"지상층수\",\"지하층수\", \\\n",
    "                            \"사용승인일\",\"허가번호기관코드\",\"친환경건축물등급\",\"친환경건축물인증점수\",\"지능형건축물등급\",\"지능형건축물인증점수\",\"내진설계적용여부\",\"내진능력\"]]\n",
    "\n",
    "busan_building[\"시도코드\"] = building.apply(make_sido_code, axis=1, meta=object)\n",
    "busan_building = busan_building[busan_building[\"시도코드\"] == \"26\"].drop([\"시군구코드\"], axis=1)\n",
    "\n",
    "# preprocessing\n",
    "busan_building[\"관리건축물대장PK\"] = busan_building[\"관리건축물대장PK\"].map(lambda x: x.strip())\n",
    "busan_building = busan_building.drop(\"시도코드\", axis=1)\n",
    "\n",
    "# convert dask to pandas\n",
    "busan_building = busan_building.compute()\n",
    "\n",
    "# save csv\n",
    "busan_building.to_csv(\"data/refined-data/busan-표제부.csv\", encoding=\"utf-8\", index=False)"
   ]
  }
 ],
 "metadata": {
  "kernelspec": {
   "display_name": "Python 3.9.13 64-bit",
   "language": "python",
   "name": "python3"
  },
  "language_info": {
   "codemirror_mode": {
    "name": "ipython",
    "version": 3
   },
   "file_extension": ".py",
   "mimetype": "text/x-python",
   "name": "python",
   "nbconvert_exporter": "python",
   "pygments_lexer": "ipython3",
   "version": "3.9.13"
  },
  "orig_nbformat": 4,
  "vscode": {
   "interpreter": {
    "hash": "b0fa6594d8f4cbf19f97940f81e996739fb7646882a419484c72d19e05852a7e"
   }
  }
 },
 "nbformat": 4,
 "nbformat_minor": 2
}
