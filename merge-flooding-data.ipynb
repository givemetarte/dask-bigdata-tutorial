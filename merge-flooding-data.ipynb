{
 "cells": [
  {
   "cell_type": "markdown",
   "metadata": {},
   "source": [
    "# 침수 API용 데이터 구축"
   ]
  },
  {
   "cell_type": "code",
   "execution_count": 2,
   "metadata": {},
   "outputs": [],
   "source": [
    "import pandas as pd \n",
    "import glob\n",
    "from tqdm import tqdm\n",
    "import dask.dataframe as dd"
   ]
  },
  {
   "cell_type": "markdown",
   "metadata": {},
   "source": [
    "### (1) kisti가 제공하는 침수된 건물 정보"
   ]
  },
  {
   "cell_type": "code",
   "execution_count": 8,
   "metadata": {},
   "outputs": [
    {
     "data": {
      "text/plain": [
       "Index(['PNU', 'BD_MGT_SN', '시군구코드', '법정동코드', '번', '지', '관리건축물대장PK', '건물명',\n",
       "       '새주소도로코드', '새주소법정동코드', '새주소지상지하코드', '동명칭', '대지구분코드', 'Cent_X',\n",
       "       'Cent_Y'],\n",
       "      dtype='object')"
      ]
     },
     "execution_count": 8,
     "metadata": {},
     "output_type": "execute_result"
    }
   ],
   "source": [
    "# KISTI 침수된 건물 정보\n",
    "\n",
    "path = \"data/rawdata/flooding-kisti-data/*.csv\"\n",
    "\n",
    "# Merge all files\n",
    "flood_df = pd.concat([pd.read_csv(f, encoding=\"utf-8\", keep_default_na=False) for f in glob.glob(path)])\n",
    "flood_df = flood_df.drop([\"OBJECTID_1\", \"OBJECTID\", \"full_pk\", \"pnu_1\", \"Shape_Length\", \"Shape_Area\"], axis=1)\n",
    "\n",
    "flood_df.columns"
   ]
  },
  {
   "cell_type": "markdown",
   "metadata": {},
   "source": [
    "### (2) 건축물대장 기본개요"
   ]
  },
  {
   "cell_type": "code",
   "execution_count": 8,
   "metadata": {},
   "outputs": [],
   "source": [
    "def make_sido_code(row):\n",
    "    return str(row[\"시군구코드\"])[:2]"
   ]
  },
  {
   "cell_type": "code",
   "execution_count": 10,
   "metadata": {},
   "outputs": [
    {
     "name": "stdout",
     "output_type": "stream",
     "text": [
      "건축물대장 기본개요의 분할된 개수는 152개입니다.\n"
     ]
    },
    {
     "name": "stderr",
     "output_type": "stream",
     "text": [
      "/opt/homebrew/lib/python3.9/site-packages/dask/dataframe/core.py:6628: FutureWarning: Meta is not valid, `map_partitions` and `map_overlap` expects output to be a pandas object. Try passing a pandas object as meta or a dict or tuple representing the (name, dtype) of the columns. In the future the meta you passed will not work.\n",
      "  warnings.warn(\n"
     ]
    },
    {
     "name": "stdout",
     "output_type": "stream",
     "text": [
      "CPU times: user 5min 42s, sys: 9.57 s, total: 5min 51s\n",
      "Wall time: 5min 48s\n"
     ]
    }
   ],
   "source": [
    "%%time\n",
    "\n",
    "# 건축물대장 기본개요\n",
    "columns = [\"관리건축물대장PK\",\"관리상위건축물대장PK\",\"대장구분코드\",\"대장구분코드명\",\"대장종류코드\",\"대장종류코드명\", \\\n",
    "            \"대지위치\",\"도로명대지위치\",\"건물명\",\"시군구코드\",\"법정동코드\",\"대지구분코드\",\"번\",\"지\",\"특수지명\",\"블록\",\"로트\",\"외필지수\", \\\n",
    "            \"새주소도로코드\",\"새주소법정동코드\",\"새주소지상지하코드\",\"새주소본번\",\"새주소부번\",\"지역코드\",\"지구코드\",\"구역코드\", \\\n",
    "            \"지역코드명\",\"지구코드명\",\"구역코드명\",\"생성일자\"]\n",
    "\n",
    "basis = dd.read_csv(\"data/rawdata/building/기본개요/mart_djy_01.txt\", sep = \"\\|\", engine='python', dtype=str, \\\n",
    "                    on_bad_lines='skip', keep_default_na=False, encoding = \"cp949\", header=None, names=columns)\n",
    "print(f\"건축물대장 기본개요의 분할된 개수는 {basis.npartitions}개입니다.\")\n",
    "\n",
    "busan_basis = basis[[\"관리건축물대장PK\", \"관리상위건축물대장PK\", \"시군구코드\"]]\n",
    "\n",
    "busan_basis[\"시도코드\"] = busan_basis.apply(make_sido_code, axis=1, meta=object)\n",
    "busan_basis = busan_basis[busan_basis[\"시도코드\"] == \"26\"].drop([\"시군구코드\"], axis=1)\n",
    "\n",
    "busan_basis = busan_basis.compute()\n",
    "\n",
    "busan_basis.to_csv(\"data/refined-data/busan-표제부.csv\", encoding=\"utf-8\", index=False)"
   ]
  },
  {
   "cell_type": "markdown",
   "metadata": {},
   "source": [
    "### (3) 건축물대장 주택가격"
   ]
  },
  {
   "cell_type": "code",
   "execution_count": 1,
   "metadata": {},
   "outputs": [
    {
     "name": "stdout",
     "output_type": "stream",
     "text": [
      "416\n",
      "Wall time: 704 ms\n"
     ]
    }
   ],
   "source": [
    "%%time\n",
    "\n",
    "# 건축물대장 주택가격\n",
    "\n",
    "# names=columns\n",
    "# columns = [\"관리건축물대장PK\",\"대장구분코드\",\"대장구분코드명\",\"대장종류코드\",\"대장종류코드명\",\"대지위치\",\"도로명대지위치\", \\\n",
    "#             \"건물명\",\"시군구코드\",\"법정동코드\",\"대지구분코드\",\"번\",\"지\",\"특수지명\",\"블록\",\"로트\",\"외필지수\",\"새주소도로코드\", \\\n",
    "#             \"새주소지상지하코드\",\"새주소본번\",\"새주소부번\",\"기준일자\",\"주택가격\",\"생성일자\"]\n",
    "\n",
    "price = dd.read_csv(\"data/rawdata/building/주택가격/mart_djy_08.txt\", sep=\"\\|\", dtype=str, encoding='cp949',\n",
    "                        on_bad_lines=\"skip\", header=None, engine='python')\n",
    "print(price.npartitions)\n",
    "\n",
    "# the number of partitions\n",
    "# print(f\"526MB로 분할된 파일 개수는 {price.npartitions}개입니다.\")\n",
    "\n",
    "# save partitions\n",
    "# price.to_csv(\"data/rawdata/building/주택가격/csvs\", encoding=\"utf-8\")\n",
    "\n",
    "price_df = price[[0,8,23,24]]\n",
    "price_df.columns = [\"관리건축물대장PK\",\"시군구코드\",\"주택가격\",\"생성일자\"]\n",
    "price_df[\"시도코드\"] = price_df.apply(make_sido_code, axis=1, meta=object)\n",
    "busan_price_pdf = price_df.loc[price_df[\"시도코드\"] == \"26\"].compute()\n",
    "\n",
    "# row 개수\n",
    "# busan_price_pdf.map_partitions(len).compute()\n",
    "\n",
    "busan_price_pdf.to_csv(\"data/refined-data/busan-price.csv\", encoding=\"utf-8\", index=False)"
   ]
  },
  {
   "cell_type": "markdown",
   "metadata": {},
   "source": [
    "### (3) 건축물대장 표제부"
   ]
  },
  {
   "cell_type": "code",
   "execution_count": 11,
   "metadata": {},
   "outputs": [
    {
     "name": "stdout",
     "output_type": "stream",
     "text": [
      "건축물대장 기본개요의 분할된 개수는 152개입니다.\n",
      "CPU times: user 1.4 s, sys: 149 ms, total: 1.55 s\n",
      "Wall time: 1.61 s\n"
     ]
    },
    {
     "data": {
      "text/html": [
       "<div>\n",
       "<style scoped>\n",
       "    .dataframe tbody tr th:only-of-type {\n",
       "        vertical-align: middle;\n",
       "    }\n",
       "\n",
       "    .dataframe tbody tr th {\n",
       "        vertical-align: top;\n",
       "    }\n",
       "\n",
       "    .dataframe thead th {\n",
       "        text-align: right;\n",
       "    }\n",
       "</style>\n",
       "<table border=\"1\" class=\"dataframe\">\n",
       "  <thead>\n",
       "    <tr style=\"text-align: right;\">\n",
       "      <th></th>\n",
       "      <th>0</th>\n",
       "      <th>1</th>\n",
       "      <th>2</th>\n",
       "      <th>3</th>\n",
       "      <th>4</th>\n",
       "      <th>5</th>\n",
       "      <th>6</th>\n",
       "      <th>7</th>\n",
       "      <th>8</th>\n",
       "      <th>9</th>\n",
       "      <th>...</th>\n",
       "      <th>20</th>\n",
       "      <th>21</th>\n",
       "      <th>22</th>\n",
       "      <th>23</th>\n",
       "      <th>24</th>\n",
       "      <th>25</th>\n",
       "      <th>26</th>\n",
       "      <th>27</th>\n",
       "      <th>28</th>\n",
       "      <th>29</th>\n",
       "    </tr>\n",
       "  </thead>\n",
       "  <tbody>\n",
       "    <tr>\n",
       "      <th>0</th>\n",
       "      <td>26380-4195</td>\n",
       "      <td></td>\n",
       "      <td>1</td>\n",
       "      <td>일반</td>\n",
       "      <td>2</td>\n",
       "      <td>일반건축물</td>\n",
       "      <td>부산광역시 사하구 괴정동 193-103번지</td>\n",
       "      <td>부산광역시 사하구 대티로63번나길 4-1</td>\n",
       "      <td></td>\n",
       "      <td>26380</td>\n",
       "      <td>...</td>\n",
       "      <td>0</td>\n",
       "      <td>4</td>\n",
       "      <td>1</td>\n",
       "      <td>1020</td>\n",
       "      <td></td>\n",
       "      <td></td>\n",
       "      <td>일반주거지역</td>\n",
       "      <td></td>\n",
       "      <td></td>\n",
       "      <td>20100619</td>\n",
       "    </tr>\n",
       "    <tr>\n",
       "      <th>1</th>\n",
       "      <td>26380-4200</td>\n",
       "      <td></td>\n",
       "      <td>1</td>\n",
       "      <td>일반</td>\n",
       "      <td>2</td>\n",
       "      <td>일반건축물</td>\n",
       "      <td>부산광역시 사하구 괴정동 193-108번지</td>\n",
       "      <td>부산광역시 사하구 대티로63번길 30-5</td>\n",
       "      <td></td>\n",
       "      <td>26380</td>\n",
       "      <td>...</td>\n",
       "      <td>0</td>\n",
       "      <td>30</td>\n",
       "      <td>5</td>\n",
       "      <td>1020</td>\n",
       "      <td></td>\n",
       "      <td></td>\n",
       "      <td>일반주거지역</td>\n",
       "      <td></td>\n",
       "      <td></td>\n",
       "      <td>20100619</td>\n",
       "    </tr>\n",
       "    <tr>\n",
       "      <th>2</th>\n",
       "      <td>26380-4260</td>\n",
       "      <td>26380-168</td>\n",
       "      <td>1</td>\n",
       "      <td>일반</td>\n",
       "      <td>2</td>\n",
       "      <td>일반건축물</td>\n",
       "      <td>부산광역시 사하구 괴정동 193-211번지</td>\n",
       "      <td></td>\n",
       "      <td></td>\n",
       "      <td>26380</td>\n",
       "      <td>...</td>\n",
       "      <td>0</td>\n",
       "      <td></td>\n",
       "      <td></td>\n",
       "      <td>1020</td>\n",
       "      <td></td>\n",
       "      <td></td>\n",
       "      <td>일반주거지역</td>\n",
       "      <td></td>\n",
       "      <td></td>\n",
       "      <td>20100619</td>\n",
       "    </tr>\n",
       "    <tr>\n",
       "      <th>3</th>\n",
       "      <td>26380-4292</td>\n",
       "      <td>26380-1169</td>\n",
       "      <td>1</td>\n",
       "      <td>일반</td>\n",
       "      <td>2</td>\n",
       "      <td>일반건축물</td>\n",
       "      <td>부산광역시 사하구 괴정동 193-295번지</td>\n",
       "      <td></td>\n",
       "      <td></td>\n",
       "      <td>26380</td>\n",
       "      <td>...</td>\n",
       "      <td>0</td>\n",
       "      <td></td>\n",
       "      <td></td>\n",
       "      <td></td>\n",
       "      <td></td>\n",
       "      <td></td>\n",
       "      <td></td>\n",
       "      <td></td>\n",
       "      <td></td>\n",
       "      <td>20100619</td>\n",
       "    </tr>\n",
       "    <tr>\n",
       "      <th>4</th>\n",
       "      <td>26380-4293</td>\n",
       "      <td>26380-1169</td>\n",
       "      <td>1</td>\n",
       "      <td>일반</td>\n",
       "      <td>2</td>\n",
       "      <td>일반건축물</td>\n",
       "      <td>부산광역시 사하구 괴정동 193-295번지</td>\n",
       "      <td></td>\n",
       "      <td></td>\n",
       "      <td>26380</td>\n",
       "      <td>...</td>\n",
       "      <td>0</td>\n",
       "      <td></td>\n",
       "      <td></td>\n",
       "      <td></td>\n",
       "      <td></td>\n",
       "      <td></td>\n",
       "      <td></td>\n",
       "      <td></td>\n",
       "      <td></td>\n",
       "      <td>20100619</td>\n",
       "    </tr>\n",
       "  </tbody>\n",
       "</table>\n",
       "<p>5 rows × 30 columns</p>\n",
       "</div>"
      ],
      "text/plain": [
       "           0           1  2   3  4      5                        6   \\\n",
       "0  26380-4195              1  일반  2  일반건축물  부산광역시 사하구 괴정동 193-103번지   \n",
       "1  26380-4200              1  일반  2  일반건축물  부산광역시 사하구 괴정동 193-108번지   \n",
       "2  26380-4260   26380-168  1  일반  2  일반건축물  부산광역시 사하구 괴정동 193-211번지   \n",
       "3  26380-4292  26380-1169  1  일반  2  일반건축물  부산광역시 사하구 괴정동 193-295번지   \n",
       "4  26380-4293  26380-1169  1  일반  2  일반건축물  부산광역시 사하구 괴정동 193-295번지   \n",
       "\n",
       "                        7  8      9   ... 20  21 22    23 24 25      26 27 28  \\\n",
       "0   부산광역시 사하구 대티로63번나길 4-1     26380  ...  0   4  1  1020        일반주거지역         \n",
       "1   부산광역시 사하구 대티로63번길 30-5     26380  ...  0  30  5  1020        일반주거지역         \n",
       "2                              26380  ...  0         1020        일반주거지역         \n",
       "3                              26380  ...  0                                    \n",
       "4                              26380  ...  0                                    \n",
       "\n",
       "         29  \n",
       "0  20100619  \n",
       "1  20100619  \n",
       "2  20100619  \n",
       "3  20100619  \n",
       "4  20100619  \n",
       "\n",
       "[5 rows x 30 columns]"
      ]
     },
     "execution_count": 11,
     "metadata": {},
     "output_type": "execute_result"
    }
   ],
   "source": [
    "%%time\n",
    "\n",
    "building = dd.read_csv(\"data/rawdata/building/기본개요/mart_djy_01.txt\", sep = \"\\|\", engine='python', dtype=str, \\\n",
    "                    on_bad_lines='skip', keep_default_na=False, encoding = \"cp949\", header=None)\n",
    "print(f\"건축물대장 기본개요의 분할된 개수는 {building.npartitions}개입니다.\")\n",
    "\n",
    "building.head()"
   ]
  },
  {
   "cell_type": "code",
   "execution_count": null,
   "metadata": {},
   "outputs": [],
   "source": []
  }
 ],
 "metadata": {
  "kernelspec": {
   "display_name": "Python 3.9.13 64-bit",
   "language": "python",
   "name": "python3"
  },
  "language_info": {
   "codemirror_mode": {
    "name": "ipython",
    "version": 3
   },
   "file_extension": ".py",
   "mimetype": "text/x-python",
   "name": "python",
   "nbconvert_exporter": "python",
   "pygments_lexer": "ipython3",
   "version": "3.9.13"
  },
  "orig_nbformat": 4,
  "vscode": {
   "interpreter": {
    "hash": "b0fa6594d8f4cbf19f97940f81e996739fb7646882a419484c72d19e05852a7e"
   }
  }
 },
 "nbformat": 4,
 "nbformat_minor": 2
}
