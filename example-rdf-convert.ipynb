{
 "cells": [
  {
   "cell_type": "code",
   "execution_count": 6,
   "metadata": {},
   "outputs": [],
   "source": [
    "import numpy as np\n",
    "import pandas as pd\n",
    "import datetime\n",
    "import os\n",
    "\n",
    "from glob import glob\n",
    "from tqdm.notebook import tqdm\n",
    "\n",
    "import hashlib\n",
    "from tqdm import tqdm_notebook as tqdm\n",
    "\n",
    "from rdflib import Namespace, Literal, URIRef\n",
    "from rdflib.graph import Graph, ConjunctiveGraph\n",
    "from rdflib.namespace import CSVW, DC, DCAT, DCTERMS, DOAP, FOAF, ODRL2, ORG, OWL, \\\n",
    "                           PROF, PROV, RDF, RDFS, SDO, SH, SKOS, SOSA, SSN, TIME, \\\n",
    "                           VOID, XMLNS, XSD"
   ]
  },
  {
   "cell_type": "code",
   "execution_count": 7,
   "metadata": {},
   "outputs": [],
   "source": [
    "def check_time() : \n",
    "    now = datetime.datetime.now().strftime('%Y-%m-%d %H:%M:%S')\n",
    "    return now"
   ]
  },
  {
   "cell_type": "code",
   "execution_count": 8,
   "metadata": {},
   "outputs": [
    {
     "name": "stdout",
     "output_type": "stream",
     "text": [
      "현재 시각 : 2022-08-15 17:51:59\n"
     ]
    }
   ],
   "source": [
    "# 기본 경로\n",
    "os.chdir(r'C:\\Users\\haklaekim\\Desktop\\address-data-rdf') # 이 폴더 경로만 수정해주면 됨\n",
    "\n",
    "today = datetime.date.today().strftime('%Y-%m-%d')\n",
    "now = datetime.datetime.now().strftime('%Y-%m-%d %H:%M:%S')\n",
    "print('현재 시각 :', now)"
   ]
  },
  {
   "cell_type": "markdown",
   "metadata": {},
   "source": [
    "# RDF 변환\n",
    "\n"
   ]
  },
  {
   "cell_type": "code",
   "execution_count": 9,
   "metadata": {},
   "outputs": [],
   "source": [
    "# namespace \n",
    "\n",
    "kord_def =\"http://data.kisti.re.kr/administration/road-name-address/def/\" #클래스와 속성\n",
    "kord_id =\"http://data.kisti.re.kr/administration/road-name-address/id/\" #인스턴스\n",
    "KORD = Namespace(\"http://data.kisti.re.kr/administration/road-name-address/def/\") #네임스페이스\n",
    "\n",
    "koro_def =\"http://data.kisti.re.kr/administration/road-name/def/\" #클래스와 속성\n",
    "koro_id =\"http://data.kisti.re.kr/administration/road-name/id/\" #인스턴스\n",
    "KORO = Namespace(\"http://data.kisti.re.kr/administration/road-name/def/\") #네임스페이스\n",
    "\n",
    "koad_def =\"http://data.kisti.re.kr/administration/administrative-division/def/\" #클래스와 속성\n",
    "koad_id =\"http://data.kisti.re.kr/administration/administrative-division/id/\" #인스턴스\n",
    "KOAD = Namespace(\"http://data.kisti.re.kr/administration/administrative-division/def/\") #네임스페이스\n",
    "\n",
    "kopc_def =\"http://data.kisti.re.kr/administration/postal-code/def/\" #클래스와 속성\n",
    "kopc_id =\"http://data.kisti.re.kr/administration/postal-code/id/\" #인스턴스\n",
    "KOPC = Namespace(\"http://data.kisti.re.kr/administration/postal-code/def/\") #네임스페이스\n",
    "\n",
    "\n",
    "# 함수\n",
    "\n",
    "def cell(store, s, p, df_col, datatype = None, lang = None):\n",
    "    if df_col != None:\n",
    "        store.add((s, p, Literal(df_col, datatype=datatype, lang = lang)))\n",
    "        \n",
    "def uri(store, s, p, df_col, objClass = None, objURI = kord_id) :\n",
    "    if df_col != None :\n",
    "        obj = URIRef(objURI+df_col) #uri체계 다르면 objURI 매개변수 변경\n",
    "        store.add((s, p, obj))\n",
    "        if objClass != None :\n",
    "            store.add((obj, RDF.type, objClass))\n"
   ]
  },
  {
   "cell_type": "markdown",
   "metadata": {},
   "source": [
    "### 주소정보"
   ]
  },
  {
   "cell_type": "code",
   "execution_count": 10,
   "metadata": {},
   "outputs": [
    {
     "name": "stdout",
     "output_type": "stream",
     "text": [
      "2022-08-15 17:53:56\n"
     ]
    },
    {
     "name": "stderr",
     "output_type": "stream",
     "text": [
      "C:\\Users\\haklaekim\\AppData\\Local\\Continuum\\anaconda3\\lib\\site-packages\\ipykernel_launcher.py:7: TqdmDeprecationWarning: This function will be removed in tqdm==5.0.0\n",
      "Please use `tqdm.notebook.tqdm` instead of `tqdm.tqdm_notebook`\n",
      "  import sys\n"
     ]
    },
    {
     "data": {
      "application/vnd.jupyter.widget-view+json": {
       "model_id": "4aa51aa2f2dc4f6b994be546dc453c81",
       "version_major": 2,
       "version_minor": 0
      },
      "text/plain": [
       "  0%|          | 0/17 [00:00<?, ?it/s]"
      ]
     },
     "metadata": {},
     "output_type": "display_data"
    },
    {
     "name": "stdout",
     "output_type": "stream",
     "text": [
      "id-data\\juso_id_busan.csv 전처리 끝 ------------------------------------------------------\n",
      "busan 2982725 ---- 2022-08-15 17:58:39\n",
      "id-data\\juso_id_chungbuk.csv 전처리 끝 ------------------------------------------------------\n",
      "chungbuk 3231085 ---- 2022-08-15 18:03:50\n",
      "id-data\\juso_id_chungnam.csv 전처리 끝 ------------------------------------------------------\n",
      "chungnam 4570477 ---- 2022-08-15 18:11:08\n",
      "id-data\\juso_id_daegu.csv 전처리 끝 ------------------------------------------------------\n",
      "daegu 2606952 ---- 2022-08-15 18:15:35\n",
      "id-data\\juso_id_daejeon.csv 전처리 끝 ------------------------------------------------------\n",
      "daejeon 1676182 ---- 2022-08-15 18:18:19\n",
      "id-data\\juso_id_gangwon.csv 전처리 끝 ------------------------------------------------------\n",
      "gangwon 3220921 ---- 2022-08-15 18:23:23\n",
      "id-data\\juso_id_gwangju.csv 전처리 끝 ------------------------------------------------------\n",
      "gwangju 1464648 ---- 2022-08-15 18:25:47\n",
      "id-data\\juso_id_gyeongbuk.csv 전처리 끝 ------------------------------------------------------\n",
      "gyeongbuk 6666718 ---- 2022-08-15 18:36:10\n",
      "id-data\\juso_id_gyeonggi.csv 전처리 끝 ------------------------------------------------------\n",
      "gyeonggi 10439551 ---- 2022-08-15 18:53:13\n",
      "id-data\\juso_id_gyeongnam.csv 전처리 끝 ------------------------------------------------------\n",
      "gyeongnam 6144094 ---- 2022-08-15 19:04:09\n",
      "id-data\\juso_id_incheon.csv 전처리 끝 ------------------------------------------------------\n",
      "incheon 1988949 ---- 2022-08-15 19:07:40\n",
      "id-data\\juso_id_jeju.csv 전처리 끝 ------------------------------------------------------\n",
      "jeju 1476193 ---- 2022-08-15 19:10:03\n",
      "id-data\\juso_id_jeonbuk.csv 전처리 끝 ------------------------------------------------------\n",
      "jeonbuk 4094639 ---- 2022-08-15 19:16:30\n",
      "id-data\\juso_id_jeonnam.csv 전처리 끝 ------------------------------------------------------\n",
      "jeonnam 5097006 ---- 2022-08-15 19:24:44\n",
      "id-data\\juso_id_sejong.csv 전처리 끝 ------------------------------------------------------\n",
      "sejong 307776 ---- 2022-08-15 19:25:35\n",
      "id-data\\juso_id_seoul.csv 전처리 끝 ------------------------------------------------------\n",
      "seoul 6428017 ---- 2022-08-15 19:35:45\n",
      "id-data\\juso_id_ulsan.csv 전처리 끝 ------------------------------------------------------\n",
      "ulsan 1280649 ---- 2022-08-15 19:38:18\n"
     ]
    }
   ],
   "source": [
    "print(check_time())\n",
    "\n",
    "list_juso = glob('id-data/juso_*')\n",
    "len_juso_df = pd.DataFrame()\n",
    "\n",
    "\n",
    "for filenm in tqdm(list_juso) : \n",
    "    \n",
    "    juso = pd.read_csv(filenm, dtype = str, encoding = 'utf-8')\n",
    "    juso = juso.replace({np.nan : None})\n",
    "\n",
    "    # id 값 hash md5 변환\n",
    "    juso['roadnamead_id'] = juso['roadnamead_id'].apply(lambda x : hashlib.md5(str(x).encode('utf-8')).hexdigest() )\n",
    "\n",
    "    print(filenm, '전처리 끝 ------------------------------------------------------')\n",
    "\n",
    "    store = Graph() #트리플스토어 생성\n",
    "    store.bind(\"kord\", KORD)\n",
    "    store.bind(\"koad\", KOAD)\n",
    "    store.bind(\"koro\", KORO)\n",
    "\n",
    "\n",
    "    for idx, row in juso.iterrows(): #행마다 반복\n",
    "        # base uri\n",
    "        sub_rna = URIRef(kord_id + str(row['roadnamead_id']))\n",
    "        \n",
    "        # type\n",
    "        store.add((sub_rna, RDF.type, KORD.RoadNameAddress))\n",
    "        \n",
    "        # property\n",
    "        cell(store, sub_rna, KORD.isUnderground, Literal(row['isUnderground'], datatype=XSD.boolean))\n",
    "        cell(store, sub_rna, KORD.buildingMainNumber, Literal(row['buildingMainNumber']))\n",
    "        cell(store, sub_rna, KORD.buildingSubNumber, Literal(row['buildingSubNumber']))\n",
    "        cell(store, sub_rna, KORD.isDetailedAddress, Literal(row['isDetailedAddress'], datatype=XSD.boolean))\n",
    "        cell(store, sub_rna, KORD.revisedCode, row['revisedCode'])\n",
    "        \n",
    "        uri(store, sub_rna, KORO.roadNameCode, row['roadNameCode'], objClass = None, objURI = koro_id)\n",
    "        uri(store, sub_rna, KORO.roadNameCodeDetail, str(row['roadNameCode'] + row['emdSerialNumber']), objClass = None, objURI = koro_id)\n",
    "        \n",
    "        if row['isDetailedAddress'] == '0' :\n",
    "            cell(store, sub_rna, KORD.buildingManagementNumber, Literal(row['buildingManagementNumber']))\n",
    "        else :\n",
    "            continue \n",
    "    \n",
    "    # result download\n",
    "    download_nm = filenm.split('.csv')[0][8:].split('_')[-1]\n",
    "    store.serialize(destination = f'graph-data/juso/juso_{download_nm}_{today}.ttl') \n",
    "    \n",
    "    # 수량 집계\n",
    "    len_juso = [download_nm, len(store)]\n",
    "    len_juso_df = len_juso_df.append(pd.Series(len_juso), ignore_index = True)\n",
    "    print(download_nm, len(store), '----', check_time())\n",
    "\n",
    "# 수량 count\n",
    "len_juso_df.columns = ['지역명', 'triple_count']\n",
    "len_juso_df.to_excel('data_count/juso_data_len.xlsx', index = False)"
   ]
  },
  {
   "cell_type": "markdown",
   "metadata": {},
   "source": [
    "### 부가정보"
   ]
  },
  {
   "cell_type": "code",
   "execution_count": 11,
   "metadata": {},
   "outputs": [
    {
     "name": "stdout",
     "output_type": "stream",
     "text": [
      "2022-08-15 19:38:19\n"
     ]
    },
    {
     "name": "stderr",
     "output_type": "stream",
     "text": [
      "C:\\Users\\haklaekim\\AppData\\Local\\Continuum\\anaconda3\\lib\\site-packages\\ipykernel_launcher.py:6: TqdmDeprecationWarning: This function will be removed in tqdm==5.0.0\n",
      "Please use `tqdm.notebook.tqdm` instead of `tqdm.tqdm_notebook`\n",
      "  \n"
     ]
    },
    {
     "data": {
      "application/vnd.jupyter.widget-view+json": {
       "model_id": "daa91e524fe044168651e1ac0eba5c9b",
       "version_major": 2,
       "version_minor": 0
      },
      "text/plain": [
       "  0%|          | 0/17 [00:00<?, ?it/s]"
      ]
     },
     "metadata": {},
     "output_type": "display_data"
    },
    {
     "name": "stdout",
     "output_type": "stream",
     "text": [
      "id-data\\add_id_busan.csv 전처리 끝 ------------------------------------------------------\n",
      "busan 3023543 ---- 2022-08-15 19:43:52\n",
      "id-data\\add_id_chungbuk.csv 전처리 끝 ------------------------------------------------------\n",
      "chungbuk 3210439 ---- 2022-08-15 19:50:02\n",
      "id-data\\add_id_chungnam.csv 전처리 끝 ------------------------------------------------------\n",
      "chungnam 4541004 ---- 2022-08-15 19:58:44\n",
      "id-data\\add_id_daegu.csv 전처리 끝 ------------------------------------------------------\n",
      "daegu 2548979 ---- 2022-08-15 20:03:45\n",
      "id-data\\add_id_daejeon.csv 전처리 끝 ------------------------------------------------------\n",
      "daejeon 1625566 ---- 2022-08-15 20:06:54\n",
      "id-data\\add_id_gangwon.csv 전처리 끝 ------------------------------------------------------\n",
      "gangwon 3153383 ---- 2022-08-15 20:12:44\n",
      "id-data\\add_id_gwangju.csv 전처리 끝 ------------------------------------------------------\n",
      "gwangju 1439288 ---- 2022-08-15 20:15:31\n",
      "id-data\\add_id_gyeongbuk.csv 전처리 끝 ------------------------------------------------------\n",
      "gyeongbuk 6585947 ---- 2022-08-15 20:27:45\n",
      "id-data\\add_id_gyeonggi.csv 전처리 끝 ------------------------------------------------------\n",
      "gyeonggi 10523795 ---- 2022-08-15 20:47:30\n",
      "id-data\\add_id_gyeongnam.csv 전처리 끝 ------------------------------------------------------\n",
      "gyeongnam 6127081 ---- 2022-08-15 21:00:05\n",
      "id-data\\add_id_incheon.csv 전처리 끝 ------------------------------------------------------\n",
      "incheon 2081876 ---- 2022-08-15 21:04:20\n",
      "id-data\\add_id_jeju.csv 전처리 끝 ------------------------------------------------------\n",
      "jeju 1468240 ---- 2022-08-15 21:07:03\n",
      "id-data\\add_id_jeonbuk.csv 전처리 끝 ------------------------------------------------------\n",
      "jeonbuk 4099551 ---- 2022-08-15 21:14:32\n",
      "id-data\\add_id_jeonnam.csv 전처리 끝 ------------------------------------------------------\n",
      "jeonnam 5099063 ---- 2022-08-15 21:24:00\n",
      "id-data\\add_id_sejong.csv 전처리 끝 ------------------------------------------------------\n",
      "sejong 302251 ---- 2022-08-15 21:24:31\n",
      "id-data\\add_id_seoul.csv 전처리 끝 ------------------------------------------------------\n",
      "seoul 6640903 ---- 2022-08-15 21:37:04\n",
      "id-data\\add_id_ulsan.csv 전처리 끝 ------------------------------------------------------\n",
      "ulsan 1284845 ---- 2022-08-15 21:39:19\n"
     ]
    }
   ],
   "source": [
    "print(check_time())\n",
    "\n",
    "list_add = glob('id-data/add_*')\n",
    "len_add_df = pd.DataFrame()\n",
    "\n",
    "for filenm in tqdm(list_add) :\n",
    "\n",
    "    add = pd.read_csv(filenm, dtype = str, encoding = 'utf-8')\n",
    "    add = add.replace({np.nan : None})\n",
    "\n",
    "    # 지번id 만들기\n",
    "    add['jibun_id'] = add['jibunad_id'].apply(lambda a : str(a)[:19])\n",
    "\n",
    "    # id 값 hash md5 변환\n",
    "    add['roadnamead_id'] = add['roadnamead_id'].apply(lambda x : hashlib.md5(str(x).encode('utf-8')).hexdigest() )\n",
    "    add['jibunad_id'] = add['jibunad_id'].apply(lambda x : hashlib.md5(str(x).encode('utf-8')).hexdigest() )\n",
    "    add['jibun_id'] = add['jibun_id'].apply(lambda x : hashlib.md5(str(x).encode('utf-8')).hexdigest() )\n",
    "    \n",
    "    # 행정동_읍면동\n",
    "    add['town'] = add.apply(lambda x : x.divisionCodeAD[:8] + '00' if str(x['emdName_AD'])[-1:] == '읍' else None, axis = 1)\n",
    "    add['township'] = add.apply(lambda x : x.divisionCodeAD[:8] + '00' if str(x['emdName_AD'])[-1:] == '면' else None, axis = 1)\n",
    "    add['neighborhood'] = add.apply(lambda x : None if (str(x['emdName_AD']).endswith(('읍', '면', 'e'))) else str(x.divisionCodeAD)[:8] + '00', axis = 1)\n",
    "    print(filenm, '전처리 끝 ------------------------------------------------------')\n",
    "\n",
    "    # 그래프변환\n",
    "    store = Graph() #트리플스토어 생성\n",
    "    store.bind(\"kord\", KORD) # 앞에 prefix 추가\n",
    "    store.bind(\"koad\", KOAD)\n",
    "    store.bind(\"koro\", KORO)\n",
    "    # store.bind(\"kopc\", KOPC) \n",
    "\n",
    "    for idx, row in add.iterrows(): #행마다 반복\n",
    "        # base\n",
    "        sub_rna = URIRef(kord_id + row['roadnamead_id'])\n",
    "        sub_lna = URIRef(kord_id + row['jibunad_id'])\n",
    "        sub_land = URIRef(kord_id + row['jibun_id'])\n",
    "        \n",
    "        # type\n",
    "        store.add((sub_rna, RDF.type, KORD.RoadNameAddress))\n",
    "        store.add((sub_lna, RDF.type, KORD.LandLotNumberAddress))\n",
    "        store.add((sub_land, RDF.type, KORD.LandLotNumber))\n",
    "        \n",
    "        #postalCode\n",
    "        uri(store, sub_rna, KOPC.postalCode, row['postalCode'], objURI = kopc_id)\n",
    "        uri(store, sub_lna, KOPC.postalCode, row['postalCode'], objURI = kopc_id)\n",
    "        \n",
    "        #buildingName\n",
    "        cell(store, sub_rna, KORD.buildingNameOfficial, row['buildingNameOfficial'], lang = \"ko\")\n",
    "        cell(store, sub_lna, KORD.buildingNameOfficial, row['buildingNameOfficial'], lang = \"ko\")\n",
    "\n",
    "        cell(store, sub_rna, KORD.buildingNameLocal, row['buildingNameLocal'], lang = \"ko\")\n",
    "        cell(store, sub_lna, KORD.buildingNameLocal, row['buildingNameLocal'], lang = \"ko\")\n",
    "        \n",
    "        # isMultiFamilyHousing\n",
    "        cell(store, sub_rna, KORD.isMultiFamilyHousing, row['isMultiFamilyHousing'], datatype = XSD.boolean)        \n",
    "        \n",
    "        # koad_AD\n",
    "        uri(store, sub_rna, KOAD.town, row['town'], objURI = koad_id)\n",
    "        uri(store, sub_rna, KOAD.township, row['township'], objURI = koad_id)\n",
    "        uri(store, sub_rna, KOAD.neighborhood, row['neighborhood'], objURI = koad_id)\n",
    "        \n",
    "        uri(store, sub_land, KOAD.town, row['town'], objURI = koad_id)\n",
    "        uri(store, sub_land, KOAD.township, row['township'], objURI = koad_id)\n",
    "        uri(store, sub_land, KOAD.neighborhood, row['neighborhood'], objURI = koad_id)\n",
    "        \n",
    "        \n",
    "    # result download   \n",
    "    download_nm = filenm.split('.csv')[0][8:].split('_')[-1]\n",
    "    store.serialize(destination = f'graph-data/add/add_{download_nm}_{today}.ttl')\n",
    "\n",
    "    # 수량 집계\n",
    "    len_triple = len(store)\n",
    "    len_add = [download_nm, len_triple]\n",
    "    len_add_df = len_add_df.append(pd.Series(len_add), ignore_index = True)\n",
    "    print(download_nm, len_triple, '----', check_time())\n",
    "\n",
    "# 수량 count\n",
    "len_add_df.columns = ['지역명', 'triple_count']\n",
    "len_add_df.to_excel('data_count/add_data_len.xlsx', index = False)"
   ]
  },
  {
   "cell_type": "markdown",
   "metadata": {},
   "source": [
    "### 지번정보"
   ]
  },
  {
   "cell_type": "code",
   "execution_count": 12,
   "metadata": {
    "scrolled": true
   },
   "outputs": [
    {
     "name": "stdout",
     "output_type": "stream",
     "text": [
      "2022-08-15 21:39:19\n"
     ]
    },
    {
     "name": "stderr",
     "output_type": "stream",
     "text": [
      "C:\\Users\\haklaekim\\AppData\\Local\\Continuum\\anaconda3\\lib\\site-packages\\ipykernel_launcher.py:7: TqdmDeprecationWarning: This function will be removed in tqdm==5.0.0\n",
      "Please use `tqdm.notebook.tqdm` instead of `tqdm.tqdm_notebook`\n",
      "  import sys\n"
     ]
    },
    {
     "data": {
      "application/vnd.jupyter.widget-view+json": {
       "model_id": "0184bc81619745f9a2ca716275e413d3",
       "version_major": 2,
       "version_minor": 0
      },
      "text/plain": [
       "  0%|          | 0/17 [00:00<?, ?it/s]"
      ]
     },
     "metadata": {},
     "output_type": "display_data"
    },
    {
     "name": "stdout",
     "output_type": "stream",
     "text": [
      "id-data\\jibun_id_busan.csv 전처리 끝 ------------------------------------------------------\n",
      "busan 5439761 ---- 2022-08-15 21:50:12\n",
      "id-data\\jibun_id_chungbuk.csv 전처리 끝 ------------------------------------------------------\n",
      "chungbuk 6839793 ---- 2022-08-15 22:03:07\n",
      "id-data\\jibun_id_chungnam.csv 전처리 끝 ------------------------------------------------------\n",
      "chungnam 10225239 ---- 2022-08-15 22:22:54\n",
      "id-data\\jibun_id_daegu.csv 전처리 끝 ------------------------------------------------------\n",
      "daegu 4501103 ---- 2022-08-15 22:33:00\n",
      "id-data\\jibun_id_daejeon.csv 전처리 끝 ------------------------------------------------------\n",
      "daejeon 2686891 ---- 2022-08-15 22:38:34\n",
      "id-data\\jibun_id_gangwon.csv 전처리 끝 ------------------------------------------------------\n",
      "gangwon 7316467 ---- 2022-08-15 22:52:33\n",
      "id-data\\jibun_id_gwangju.csv 전처리 끝 ------------------------------------------------------\n",
      "gwangju 2527240 ---- 2022-08-15 22:58:14\n",
      "id-data\\jibun_id_gyeongbuk.csv 전처리 끝 ------------------------------------------------------\n",
      "gyeongbuk 14036049 ---- 2022-08-15 23:24:11\n",
      "id-data\\jibun_id_gyeonggi.csv 전처리 끝 ------------------------------------------------------\n",
      "gyeonggi 21642906 ---- 2022-08-16 00:08:08\n",
      "id-data\\jibun_id_gyeongnam.csv 전처리 끝 ------------------------------------------------------\n",
      "gyeongnam 13841019 ---- 2022-08-16 00:42:26\n",
      "id-data\\jibun_id_incheon.csv 전처리 끝 ------------------------------------------------------\n",
      "incheon 3652157 ---- 2022-08-16 00:52:14\n",
      "id-data\\jibun_id_jeju.csv 전처리 끝 ------------------------------------------------------\n",
      "jeju 2856048 ---- 2022-08-16 00:57:39\n",
      "id-data\\jibun_id_jeonbuk.csv 전처리 끝 ------------------------------------------------------\n",
      "jeonbuk 8793324 ---- 2022-08-16 01:13:47\n",
      "id-data\\jibun_id_jeonnam.csv 전처리 끝 ------------------------------------------------------\n",
      "jeonnam 12318332 ---- 2022-08-16 01:38:01\n",
      "id-data\\jibun_id_sejong.csv 전처리 끝 ------------------------------------------------------\n",
      "sejong 535543 ---- 2022-08-16 01:39:03\n",
      "id-data\\jibun_id_seoul.csv 전처리 끝 ------------------------------------------------------\n",
      "seoul 11225715 ---- 2022-08-16 02:03:36\n",
      "id-data\\jibun_id_ulsan.csv 전처리 끝 ------------------------------------------------------\n",
      "ulsan 2309972 ---- 2022-08-16 02:09:59\n"
     ]
    }
   ],
   "source": [
    "print(check_time())\n",
    "\n",
    "list_jibun = glob('id-data/jibun_*')\n",
    "len_jibun_df = pd.DataFrame()\n",
    "\n",
    "\n",
    "for filenm in tqdm(list_jibun) :\n",
    "\n",
    "    land = pd.read_csv(filenm, dtype = str, encoding = 'utf-8')\n",
    "    land = land.replace({np.nan : None})\n",
    "\n",
    "    # 데이터 정제\n",
    "    # id 값 hash md5 변환\n",
    "    land['roadnamead_id'] = land['roadnamead_id'].apply(lambda x : hashlib.md5(str(x).encode('utf-8')).hexdigest() if x != None else x )\n",
    "    land['jibunad_id'] = land['jibunad_id'].apply(lambda x : hashlib.md5(str(x).encode('utf-8')).hexdigest() if x != None else x )\n",
    "    land['jibun_id'] = land['jibun_id'].apply(lambda x : hashlib.md5(str(x).encode('utf-8')).hexdigest() )\n",
    "\n",
    "    # 시 도 시 군 구 읍 면 동\n",
    "    # 시도 koad:city koad:province \n",
    "    land['city_sido'] = land.apply(lambda x : x.divisionCode[:2] + '00000000' if x['sidoName'][-1:] == '시' else None, axis = 1)\n",
    "    land['province_sido'] = land.apply(lambda x : x.divisionCode[:2] + '00000000' if x['sidoName'][-1:] == '도' else None, axis = 1)\n",
    "\n",
    "    # 시군구 koad:city koad:district koad:county \n",
    "    land['city_sigungu'] = land.apply(lambda x : x.divisionCode[:5] + '00000' if str(x['sigunguName'])[-1:] == '시' else None, axis = 1)\n",
    "    land['district_sigungu'] = land.apply(lambda x : x.divisionCode[:5] + '00000' if str(x['sigunguName'])[-1:] == '구' else None, axis = 1)\n",
    "    land['county_sigungu'] = land.apply(lambda x : x.divisionCode[:5] + '00000' if str(x['sigunguName'])[-1:] == '군' else None, axis = 1)\n",
    "\n",
    "    # 일반구의 시\n",
    "    land['city_normalcity'] = land.apply(lambda x : x.divisionCode[:4] + '000000' if len(str(x['sigunguName'])) > 5 else None, axis = 1)\n",
    "\n",
    "    # 읍면동\n",
    "    land['town'] = land.apply(lambda x : x.divisionCode[:8] + '00' if str(x['emdName'])[-1:] == '읍' else None, axis = 1)\n",
    "    land['township'] = land.apply(lambda x : x.divisionCode[:8] + '00' if str(x['emdName'])[-1:] == '면' else None, axis = 1)\n",
    "    land['neighborhood'] = land.apply(lambda x : None if (str(x['emdName']).endswith(('읍', '면', 'e'))) else str(x.divisionCode)[:8] + '00', axis = 1)\n",
    "\n",
    "    # 리\n",
    "    land['village'] = land.apply(lambda x : None if (str(x['liName']) == 'None') else x.divisionCode, axis = 1)\n",
    "\n",
    "    print(filenm, '전처리 끝 ------------------------------------------------------')\n",
    "    # rdflib   \n",
    "    store = Graph() #트리플스토어 생성\n",
    "    store.bind(\"kord\", KORD) # 앞에 prefix 추가\n",
    "    store.bind(\"koad\", KOAD)\n",
    "    store.bind(\"koro\", KORO)\n",
    "\n",
    "    for idx, row in land.iterrows(): \n",
    "        # base\n",
    "        sub_rna = URIRef(kord_id + row['roadnamead_id'])\n",
    "        sub_lna = URIRef(kord_id + row['jibunad_id'])\n",
    "        sub_land = URIRef(kord_id + row['jibun_id'])\n",
    "        \n",
    "        # type\n",
    "        store.add((sub_rna, RDF.type, KORD.RoadNameAddress))\n",
    "        store.add((sub_lna, RDF.type, KORD.LandLotNumberAddress))\n",
    "        store.add((sub_land, RDF.type, KORD.LandLotNumber))\n",
    "        \n",
    "        # represenat-related\n",
    "        if row['isRepresentative'] == '1' : \n",
    "            uri(store, sub_lna, KORD.represnetativeLandLotNumber, row['jibun_id'], KORD.LandLotNumber)\n",
    "        else :\n",
    "            uri(store, sub_lna, KORD.relatedLandLotNumber, row['jibun_id'], KORD.LandLotNumber)\n",
    "        \n",
    "        # landLotNumber\n",
    "        cell(store, sub_land, KORD.landLotMainNumber, row['landLotMainNumber'])\n",
    "        cell(store, sub_land, KORD.landLotSubNumber, row['landLotSubNumber'])\n",
    "\n",
    "        # isMountain\n",
    "        cell(store, sub_land, KORD.isMountain, row['isMountain'], XSD.boolean)\n",
    "        \n",
    "        # roadnameaddress - landlotnumberaddress\n",
    "        uri(store, sub_rna, KORD.isAddressLOf, row['jibunad_id'], KORD.LandLotNumberAddress, objURI = kord_id)\n",
    "        uri(store, sub_lna, KORD.isAddressROf, row['roadnamead_id'], KORD.RoadNameAddress, objURI = kord_id)\n",
    "        \n",
    "        \n",
    "        # koad_AD : rna\n",
    "        uri(store, sub_rna, KOAD.city, row['city_sido'], objURI = koad_id)\n",
    "        uri(store, sub_rna, KOAD.province, row['province_sido'], objURI = koad_id)\n",
    "        uri(store, sub_rna, KOAD.city, row['city_sigungu'], objURI = koad_id)\n",
    "        uri(store, sub_rna, KOAD.district, row['district_sigungu'], objURI = koad_id)\n",
    "        uri(store, sub_rna, KOAD.county, row['county_sigungu'], objURI = koad_id)\n",
    "        uri(store, sub_rna, KOAD.city, row['city_normalcity'], objURI = koad_id)\n",
    "        uri(store, sub_rna, KOAD.town, row['town'], objURI = koad_id)\n",
    "        uri(store, sub_rna, KOAD.township, row['township'], objURI = koad_id)\n",
    "        uri(store, sub_rna, KOAD.neighborhood, row['neighborhood'], objURI = koad_id)\n",
    "        uri(store, sub_rna, KOAD.village, row['village'], objURI = koad_id)\n",
    "\n",
    "        # koad_AD : land\n",
    "        uri(store, sub_land, KOAD.city, row['city_sido'], objURI = koad_id)\n",
    "        uri(store, sub_land, KOAD.province, row['province_sido'], objURI = koad_id)\n",
    "        uri(store, sub_land, KOAD.city, row['city_sigungu'], objURI = koad_id)\n",
    "        uri(store, sub_land, KOAD.district, row['district_sigungu'], objURI = koad_id)\n",
    "        uri(store, sub_land, KOAD.county, row['county_sigungu'], objURI = koad_id)\n",
    "        uri(store, sub_land, KOAD.city, row['city_normalcity'], objURI = koad_id)\n",
    "        uri(store, sub_land, KOAD.town, row['town'], objURI = koad_id)\n",
    "        uri(store, sub_land, KOAD.township, row['township'], objURI = koad_id)\n",
    "        uri(store, sub_land, KOAD.neighborhood, row['neighborhood'], objURI = koad_id)\n",
    "        uri(store, sub_land, KOAD.village, row['village'], objURI = koad_id)\n",
    "        \n",
    "\n",
    "    # result download\n",
    "    download_nm = filenm.split('.csv')[0][8:].split('_')[-1]\n",
    "    store.serialize(destination = f'graph-data/jibun/jibun_{download_nm}_{today}.ttl')\n",
    "\n",
    "    # 수량집계\n",
    "    len_triple = len(store)\n",
    "    len_jibun = [download_nm, len_triple]\n",
    "    len_jibun_df = len_jibun_df.append(pd.Series(len_jibun), ignore_index = True)\n",
    "    print(download_nm, len_triple, '----', check_time())\n",
    "    \n",
    "# 수량 count\n",
    "len_jibun_df.columns = ['지역명', 'triple_count']\n",
    "len_jibun_df.to_excel('data_count/jibun_data_len.xlsx', index = False)\n",
    "\n",
    "# 테스트용으로 실행해둠"
   ]
  },
  {
   "cell_type": "markdown",
   "metadata": {},
   "source": [
    "### 상세주소"
   ]
  },
  {
   "cell_type": "code",
   "execution_count": 13,
   "metadata": {},
   "outputs": [
    {
     "name": "stdout",
     "output_type": "stream",
     "text": [
      "2022-08-16 02:09:59\n"
     ]
    },
    {
     "name": "stderr",
     "output_type": "stream",
     "text": [
      "C:\\Users\\haklaekim\\AppData\\Local\\Continuum\\anaconda3\\lib\\site-packages\\ipykernel_launcher.py:6: TqdmDeprecationWarning: This function will be removed in tqdm==5.0.0\n",
      "Please use `tqdm.notebook.tqdm` instead of `tqdm.tqdm_notebook`\n",
      "  \n"
     ]
    },
    {
     "data": {
      "application/vnd.jupyter.widget-view+json": {
       "model_id": "9752b9e975e24fbfbb6259958004bcba",
       "version_major": 2,
       "version_minor": 0
      },
      "text/plain": [
       "  0%|          | 0/17 [00:00<?, ?it/s]"
      ]
     },
     "metadata": {},
     "output_type": "display_data"
    },
    {
     "name": "stdout",
     "output_type": "stream",
     "text": [
      "id-data\\detail_id_busan.csv 전처리 끝 ------------------------------------------------------\n",
      "busan 1486331 ---- 2022-08-16 02:12:15\n",
      "id-data\\detail_id_chungbuk.csv 전처리 끝 ------------------------------------------------------\n",
      "chungbuk 1325234 ---- 2022-08-16 02:14:13\n",
      "id-data\\detail_id_chungnam.csv 전처리 끝 ------------------------------------------------------\n",
      "chungnam 1518409 ---- 2022-08-16 02:16:27\n",
      "id-data\\detail_id_daegu.csv 전처리 끝 ------------------------------------------------------\n",
      "daegu 2199879 ---- 2022-08-16 02:19:43\n",
      "id-data\\detail_id_daejeon.csv 전처리 끝 ------------------------------------------------------\n",
      "daejeon 1788707 ---- 2022-08-16 02:22:25\n",
      "id-data\\detail_id_gangwon.csv 전처리 끝 ------------------------------------------------------\n",
      "gangwon 847385 ---- 2022-08-16 02:23:43\n",
      "id-data\\detail_id_gwangju.csv 전처리 끝 ------------------------------------------------------\n",
      "gwangju 1124844 ---- 2022-08-16 02:25:22\n",
      "id-data\\detail_id_gyeongbuk.csv 전처리 끝 ------------------------------------------------------\n",
      "gyeongbuk 1994886 ---- 2022-08-16 02:28:17\n",
      "id-data\\detail_id_gyeonggi.csv 전처리 끝 ------------------------------------------------------\n",
      "gyeonggi 6065009 ---- 2022-08-16 02:37:05\n",
      "id-data\\detail_id_gyeongnam.csv 전처리 끝 ------------------------------------------------------\n",
      "gyeongnam 2249229 ---- 2022-08-16 02:40:46\n",
      "id-data\\detail_id_incheon.csv 전처리 끝 ------------------------------------------------------\n",
      "incheon 1265766 ---- 2022-08-16 02:42:40\n",
      "id-data\\detail_id_jeju.csv 전처리 끝 ------------------------------------------------------\n",
      "jeju 694307 ---- 2022-08-16 02:43:42\n",
      "id-data\\detail_id_jeonbuk.csv 전처리 끝 ------------------------------------------------------\n",
      "jeonbuk 1367625 ---- 2022-08-16 02:45:41\n",
      "id-data\\detail_id_jeonnam.csv 전처리 끝 ------------------------------------------------------\n",
      "jeonnam 791841 ---- 2022-08-16 02:46:52\n",
      "id-data\\detail_id_sejong.csv 전처리 끝 ------------------------------------------------------\n",
      "sejong 199244 ---- 2022-08-16 02:47:10\n",
      "id-data\\detail_id_seoul.csv 전처리 끝 ------------------------------------------------------\n",
      "seoul 5279783 ---- 2022-08-16 02:54:45\n",
      "id-data\\detail_id_ulsan.csv 전처리 끝 ------------------------------------------------------\n",
      "ulsan 1136560 ---- 2022-08-16 02:56:44\n"
     ]
    }
   ],
   "source": [
    "print(check_time())\n",
    "\n",
    "list_detail = glob('id-data/detail_*')\n",
    "len_detail_df = pd.DataFrame()\n",
    "\n",
    "for filenm in tqdm(list_detail) :\n",
    "\n",
    "    detail = pd.read_csv(filenm, dtype = str, encoding = 'utf-8')\n",
    "    detail = detail.replace({np.nan : None})\n",
    "\n",
    "    # 데이터 정제\n",
    "    # id 값 hash md5 변환\n",
    "    detail['roadnamead_id'] = detail['roadnamead_id'].apply(lambda x : hashlib.md5(str(x).encode('utf-8')).hexdigest() )\n",
    "    detail['jibunad_id'] = detail['jibunad_id'].apply(lambda x : hashlib.md5(str(x).encode('utf-8')).hexdigest() )\n",
    "\n",
    "    print(filenm, '전처리 끝 ------------------------------------------------------')\n",
    "\n",
    "    # rdf lib\n",
    "    store = Graph() #트리플스토어 생성\n",
    "    store.bind(\"kord\", KORD) # 앞에 prefix 추가\n",
    "    store.bind(\"koad\", KOAD)\n",
    "    store.bind(\"koro\", KORO)\n",
    "\n",
    "    for idx, row in detail.iterrows():\n",
    "        # base\n",
    "        sub_rna = URIRef(kord_id + row['roadnamead_id'])\n",
    "        sub_lna = URIRef(kord_id + row['jibunad_id'])\n",
    "        \n",
    "        # type\n",
    "        store.add((sub_rna, RDF.type, KORD.RoadNameAddress))\n",
    "        store.add((sub_lna, RDF.type, KORD.LandLotNumberAddress))\n",
    "\n",
    "        # RNA \n",
    "        cell(store, sub_rna, KORD.blockSerialNumber, row['blockSerialNumber'])\n",
    "        cell(store, sub_rna, KORD.floorSerialNumber, row['floorSerialNumber'])\n",
    "        cell(store, sub_rna, KORD.unitSuffixSerialNumber, row['unitSuffixSerialNumber'])\n",
    "        cell(store, sub_rna, KORD.blockName, row['blockName'])\n",
    "        cell(store, sub_rna, KORD.floorName, row['floorName'])\n",
    "        cell(store, sub_rna, KORD.floorName, row['floorName'])\n",
    "        cell(store, sub_rna, KORD.unitName, row['unitName'])\n",
    "        cell(store, sub_rna, KORD.unitSuffixName, row['unitSuffixName']) \n",
    "        cell(store, sub_rna, KORD.isUndergroundFloor, row['isUndergroundFloor'], datatype = XSD.boolean)\n",
    "        cell(store, sub_rna, KORD.buildingManagementNumber, row['buildingManagementNumber'])\n",
    "        \n",
    "\n",
    "        # LNA\n",
    "        cell(store, sub_lna, KORD.blockSerialNumber, row['blockSerialNumber'])\n",
    "        cell(store, sub_lna, KORD.floorSerialNumber, row['floorSerialNumber'])\n",
    "        cell(store, sub_lna, KORD.unitSuffixSerialNumber, row['unitSuffixSerialNumber'])\n",
    "        cell(store, sub_lna, KORD.blockName, row['blockName'])\n",
    "        cell(store, sub_lna, KORD.floorName, row['floorName'])\n",
    "        cell(store, sub_lna, KORD.floorName, row['floorName'])\n",
    "        cell(store, sub_lna, KORD.unitName, row['unitName'])\n",
    "        cell(store, sub_lna, KORD.unitSuffixName, row['unitSuffixName'])\n",
    "        cell(store, sub_lna, KORD.isUndergroundFloor, row['isUndergroundFloor'], datatype = XSD.boolean)\n",
    "        \n",
    "    # result download \n",
    "    download_nm = filenm.split('.csv')[0][8:].split('_')[-1]\n",
    "    store.serialize(destination = f'graph-data/detail/detail_{download_nm}_{today}.ttl') \n",
    "\n",
    "    # 수량집계\n",
    "    len_triple = len(store)\n",
    "    len_detail = [download_nm, len_triple]\n",
    "    len_detail_df = len_detail_df.append(pd.Series(len_detail), ignore_index = True)\n",
    "    print(download_nm, len_triple, '----', check_time())\n",
    "\n",
    "# 수량 count\n",
    "len_detail_df.columns = ['지역명', 'triple_count']\n",
    "len_detail_df.to_excel('data_count/detail_data_len.xlsx', index = False)"
   ]
  },
  {
   "cell_type": "code",
   "execution_count": null,
   "metadata": {},
   "outputs": [],
   "source": []
  }
 ],
 "metadata": {
  "kernelspec": {
   "display_name": "Python 3.8.6 64-bit ('3.8.6')",
   "language": "python",
   "name": "python3"
  },
  "language_info": {
   "codemirror_mode": {
    "name": "ipython",
    "version": 3
   },
   "file_extension": ".py",
   "mimetype": "text/x-python",
   "name": "python",
   "nbconvert_exporter": "python",
   "pygments_lexer": "ipython3",
   "version": "3.8.6"
  },
  "vscode": {
   "interpreter": {
    "hash": "53927a924259e4be48e32331bf2f29ef4a19fae885b81e27ebe778ed173d1eff"
   }
  }
 },
 "nbformat": 4,
 "nbformat_minor": 4
}
