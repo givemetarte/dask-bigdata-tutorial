{
 "cells": [
  {
   "cell_type": "code",
   "execution_count": 1,
   "metadata": {},
   "outputs": [],
   "source": [
    "import numpy as np\n",
    "import pandas as pd \n",
    "import glob\n",
    "from tqdm import tqdm\n",
    "import hashlib\n",
    "import datetime\n",
    "\n",
    "from rdflib import Namespace, Literal, URIRef\n",
    "from rdflib.graph import Graph, ConjunctiveGraph\n",
    "from rdflib.namespace import CSVW, DC, DCAT, DCTERMS, DOAP, FOAF, ODRL2, ORG, OWL, \\\n",
    "                           PROF, PROV, RDF, RDFS, SDO, SH, SKOS, SOSA, SSN, TIME, \\\n",
    "                           VOID, XMLNS, XSD"
   ]
  },
  {
   "cell_type": "code",
   "execution_count": 2,
   "metadata": {},
   "outputs": [
    {
     "name": "stdout",
     "output_type": "stream",
     "text": [
      "마지막으로 실행한 날짜는 2022-08-27 입니다.\n"
     ]
    }
   ],
   "source": [
    "# today\n",
    "today = datetime.date.today()\n",
    "print(f\"마지막으로 실행한 날짜는 {today} 입니다.\")"
   ]
  },
  {
   "cell_type": "markdown",
   "metadata": {},
   "source": [
    "### (1) 건축물대장 표제부 데이터 불러오기"
   ]
  },
  {
   "cell_type": "code",
   "execution_count": 5,
   "metadata": {},
   "outputs": [
    {
     "name": "stdout",
     "output_type": "stream",
     "text": [
      "총 7905108 개의 행수가 있습니다.\n",
      "Wall time: 7min 22s\n"
     ]
    }
   ],
   "source": [
    "%%time\n",
    "\n",
    "columns = [\"관리건축물대장PK\",\"대장구분코드\",\"대장구분코드명\",\"대장종류코드\",\"대장종류코드명\",\"대지위치\", \\\n",
    "            \"도로명대지위치\",\"건물명\",\"시군구코드\",\"법정동코드\",\"대지구분코드\",\"번\",\"지\",\"특수지명\", \\\n",
    "            \"블록\",\"로트\",\"외필지수\",\"새주소도로코드\",\"새주소법정동코드\",\"새주소지상지하코드\",\"새주소본번\", \\\n",
    "            \"새주소부번\",\"동명\",\"주부속구분코드\",\"주부속구분코드명\",\"대지면적(㎡)\",\"건축면적(㎡)\", \\\n",
    "            \"건폐율(%)\",\"연면적\",\"용적률산정연면적\",\"용적률\",\"구조코드\",\"구조코드명\",\"기타구조\", \\\n",
    "            \"주용도코드\",\"주용도코드명\",\"기타용도\",\"지붕코드\",\"지붕코드명\",\"기타지붕\",\"세대수(세대)\", \\\n",
    "            \"가구수(가구)\",\"높이(m)\",\"지상층수\",\"지하층수\",\"승용승강기수\",\"비상용승강기수\",\"부속건축물수\", \\\n",
    "            \"부속건축물면적\",\"총동연면적\",\"옥내기계식대수(대)\",\"옥내기계식면적\",\"옥외기계식대수(대)\", \\\n",
    "            \"옥외기계식면적\",\"옥내자주식대수(대)\",\"옥내자주식면적\",\"옥외자주식대수(대)\",\"옥외자주식면적\", \\\n",
    "            \"허가일\",\"착공일\",\"사용승인일\",\"허가번호년\",\"허가번호기관코드\",\"허가번호기관코드명\", \\\n",
    "            \"허가번호구분코드\",\"허가번호구분코드명\",\"호수(호)\",\"에너지효율등급\",\"에너지절감율\", \\\n",
    "            \"에너지EPI점수\",\"친환경건축물등급\",\"친환경건축물인증점수\",\"지능형건축물등급\",\"지능형건축물인증점수\", \\\n",
    "            \"생성일자\",\"내진설계적용여부\",\"내진능력\"]\n",
    "\n",
    "df = pd.read_csv(\"data/rawdata/building/표제부/mart_djy_03.txt\", sep = \"\\|\", engine='python', dtype=str, \\\n",
    "                    on_bad_lines='skip', keep_default_na=False, encoding = \"cp949\", header=None, names=columns)\n",
    "df = df.replace({np.nan: None})\n",
    "\n",
    "# preprocessing\n",
    "df[df.columns] = df.apply(lambda x: x.str.strip())\n",
    "\n",
    "# 관리건출물대장PK가 없는 row는 삭제\n",
    "index = df[df['관리건축물대장PK'] == None].index\n",
    "df = df.drop(index)\n",
    "\n",
    "print(f\"총 {df.shape[0]} 개의 행수가 있습니다.\")"
   ]
  },
  {
   "cell_type": "code",
   "execution_count": 6,
   "metadata": {},
   "outputs": [],
   "source": [
    "# 속성 rdf 파일을 만들기 위해 속성으로만 df 만들기\n",
    "\n",
    "col = list(df.columns)\n",
    "col_df = pd.DataFrame(col, columns=[\"속성명\"])"
   ]
  },
  {
   "cell_type": "markdown",
   "metadata": {},
   "source": [
    "### (1-2) 데이터 쪼개기"
   ]
  },
  {
   "cell_type": "code",
   "execution_count": 14,
   "metadata": {},
   "outputs": [
    {
     "data": {
      "text/plain": [
       "array(['27', '28', '30', '31', '45', '47', '43', '44', '11', '41', '46',\n",
       "       '50', '48', '26', '29', '42', '36'], dtype=object)"
      ]
     },
     "execution_count": 14,
     "metadata": {},
     "output_type": "execute_result"
    }
   ],
   "source": [
    "# 시도 코드 만들기\n",
    "\n",
    "df['시도코드'] = df['시군구코드'].apply(lambda s : str(s)[:2])\n",
    "df['시도코드'].unique()"
   ]
  },
  {
   "cell_type": "code",
   "execution_count": 15,
   "metadata": {},
   "outputs": [
    {
     "name": "stdout",
     "output_type": "stream",
     "text": [
      "c:\\Users\\datahub\\Documents\\GitHub\\seon-dask-bigdata-tutorial\n"
     ]
    }
   ],
   "source": [
    "print(os.getcwd())"
   ]
  },
  {
   "cell_type": "code",
   "execution_count": 27,
   "metadata": {},
   "outputs": [
    {
     "name": "stderr",
     "output_type": "stream",
     "text": [
      "c:\\Users\\datahub\\anaconda3\\lib\\site-packages\\pandas\\core\\frame.py:4906: SettingWithCopyWarning: \n",
      "A value is trying to be set on a copy of a slice from a DataFrame\n",
      "\n",
      "See the caveats in the documentation: https://pandas.pydata.org/pandas-docs/stable/user_guide/indexing.html#returning-a-view-versus-a-copy\n",
      "  return super().drop(\n"
     ]
    },
    {
     "name": "stdout",
     "output_type": "stream",
     "text": [
      "27 260713\n",
      "28 230930\n",
      "30 144160\n",
      "31 152299\n",
      "45 505344\n",
      "47 911810\n",
      "43 446735\n",
      "44 592869\n",
      "11 595368\n",
      "41 1286913\n",
      "46 727574\n",
      "50 208477\n",
      "48 794192\n",
      "26 362199\n",
      "29 188306\n",
      "42 459410\n",
      "36 37809\n",
      "7905108\n"
     ]
    }
   ],
   "source": [
    "region_code = list(df['시도코드'].unique())\n",
    "final_num = 0\n",
    "\n",
    "for code in region_code : \n",
    "    df_temp = df[df['시도코드'] == code]\n",
    "    df_temp.drop('시도코드', axis = 1, inplace=True)\n",
    "    df_temp.to_csv(f'data/split_data/{code}.csv', index = False)\n",
    "    \n",
    "    num_row = len(df_temp)\n",
    "    \n",
    "    print(code, num_row)\n",
    "    \n",
    "    final_num += num_row\n",
    "    \n",
    "print(final_num) # 전체 df 수량과 맞는지 확인"
   ]
  },
  {
   "cell_type": "markdown",
   "metadata": {},
   "source": [
    "### (2) RDF 변환"
   ]
  },
  {
   "cell_type": "code",
   "execution_count": 4,
   "metadata": {},
   "outputs": [],
   "source": [
    "df_busan = pd.read_csv(r'data\\split_data\\26.csv', dtype = str)\n",
    "\n",
    "df_busan.replace({np.NaN : None}, inplace= True)"
   ]
  },
  {
   "cell_type": "code",
   "execution_count": 5,
   "metadata": {},
   "outputs": [],
   "source": [
    "# namespace \n",
    "buid_def = \"http://data.kisti.re.kr/administration/building/def/\"\n",
    "buid_id = \"http://data.kisti.re.kr/administration/building/id/\"\n",
    "BUID = Namespace(buid_def)\n",
    "\n",
    "# function (convert cell to rdf)\n",
    "def cell(store, s, p, df_col, datatype = None, lang = None):\n",
    "    if df_col != None:\n",
    "        store.add((s, p, Literal(df_col, datatype=datatype, lang = lang)))\n",
    "        \n",
    "def uri(store, s, p, df_col, objClass = None, objURI = None) :\n",
    "    if df_col != None :\n",
    "        obj = URIRef(objURI + df_col) \n",
    "        store.add((s, p, obj))\n",
    "        if objClass != None :\n",
    "            store.add((obj, RDF.type, objClass))"
   ]
  },
  {
   "cell_type": "markdown",
   "metadata": {},
   "source": [
    "### (3) 속성 만들기 "
   ]
  },
  {
   "cell_type": "code",
   "execution_count": 6,
   "metadata": {},
   "outputs": [
    {
     "name": "stderr",
     "output_type": "stream",
     "text": [
      "100%|██████████| 77/77 [00:00<00:00, 15410.67it/s]"
     ]
    },
    {
     "name": "stdout",
     "output_type": "stream",
     "text": [
      "Wall time: 2.37 s\n"
     ]
    },
    {
     "name": "stderr",
     "output_type": "stream",
     "text": [
      "\n"
     ]
    },
    {
     "data": {
      "text/plain": [
       "<Graph identifier=N6706be7c7f4347ceb5f845a4579b1b88 (<class 'rdflib.graph.Graph'>)>"
      ]
     },
     "execution_count": 6,
     "metadata": {},
     "output_type": "execute_result"
    }
   ],
   "source": [
    "%%time\n",
    "\n",
    "# generate Graph()\n",
    "g = Graph()\n",
    "g.bind(\"buid\", BUID)\n",
    "\n",
    "#vocab \n",
    "for idx, row in tqdm(col_df.iterrows(), total=col_df.shape[0]):\n",
    "    # base def \n",
    "    bui_uri = URIRef(buid_def + f\"pp{idx+1}\")\n",
    "    g.add((bui_uri, RDFS.label, Literal(row[\"속성명\"])))\n",
    "\n",
    "# save as ttl\n",
    "g.serialize(destination=f\"final-data/ttl/building-property-pyojebu-{today}.ttl\", format=\"turtle\")"
   ]
  },
  {
   "cell_type": "markdown",
   "metadata": {},
   "source": [
    "### (4) 건축물대장 표제부 변환하기"
   ]
  },
  {
   "cell_type": "code",
   "execution_count": 7,
   "metadata": {},
   "outputs": [
    {
     "name": "stderr",
     "output_type": "stream",
     "text": [
      "100%|██████████| 362199/362199 [10:44<00:00, 561.58it/s] \n"
     ]
    },
    {
     "name": "stdout",
     "output_type": "stream",
     "text": [
      "총 22739156 개의 트리플이 있습니다.\n",
      "Wall time: 28min 35s\n"
     ]
    },
    {
     "data": {
      "text/plain": [
       "<Graph identifier=N5429e4aeb81146968cd36608fb96453e (<class 'rdflib.graph.Graph'>)>"
      ]
     },
     "execution_count": 7,
     "metadata": {},
     "output_type": "execute_result"
    }
   ],
   "source": [
    "%%time\n",
    "\n",
    "# generate Graph()\n",
    "g = Graph()\n",
    "g.bind(\"buid\", BUID)\n",
    "\n",
    "for idx, row in tqdm(df_busan.iterrows(), total=df_busan.shape[0]):\n",
    "    # base id \n",
    "    uri_buid = URIRef(buid_def + row[\"관리건축물대장PK\"])\n",
    "\n",
    "    # type\n",
    "    g.add((uri_buid, RDF.type, BUID.Building))\n",
    "\n",
    "    # literal\n",
    "    for p in range(len(df_busan.columns)):\n",
    "        cell(g, uri_buid, BUID[f\"pp{p+1}\"], row[f\"{df_busan.columns[p]}\"])\n",
    "\n",
    "# the number of triples\n",
    "print(f\"총 {len(g)} 개의 트리플이 있습니다.\")\n",
    "\n",
    "# save as ttl\n",
    "g.serialize(destination=f\"final-data/building-pyo-busan-{today}.ttl\", format=\"ttl\")"
   ]
  }
 ],
 "metadata": {
  "kernelspec": {
   "display_name": "Python 3.8.3 ('base')",
   "language": "python",
   "name": "python3"
  },
  "language_info": {
   "codemirror_mode": {
    "name": "ipython",
    "version": 3
   },
   "file_extension": ".py",
   "mimetype": "text/x-python",
   "name": "python",
   "nbconvert_exporter": "python",
   "pygments_lexer": "ipython3",
   "version": "3.8.3"
  },
  "orig_nbformat": 4,
  "vscode": {
   "interpreter": {
    "hash": "f97b8bff7ca864bc61cf22f71b50b5fb5f43d875583e4916d55708b21b362fb0"
   }
  }
 },
 "nbformat": 4,
 "nbformat_minor": 2
}
